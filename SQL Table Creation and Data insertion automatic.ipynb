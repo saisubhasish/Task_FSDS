{
 "cells": [
  {
   "cell_type": "code",
   "execution_count": 17,
   "id": "b4e8701f",
   "metadata": {},
   "outputs": [],
   "source": [
    "import logging as lg\n",
    "import mysql.connector as conn\n",
    "import getpass\n",
    "import csv\n"
   ]
  },
  {
   "cell_type": "code",
   "execution_count": 30,
   "id": "1383065c",
   "metadata": {},
   "outputs": [],
   "source": [
    "lg.basicConfig(filename='Task.log', level=lg.INFO, format='%(levelname)s %(asctime)s %(name)s %(message)s', filemode='a', datefmt = '%m-%d-%y %H:%M:%S')"
   ]
  },
  {
   "cell_type": "code",
   "execution_count": null,
   "id": "8c585d27",
   "metadata": {},
   "outputs": [],
   "source": []
  },
  {
   "cell_type": "code",
   "execution_count": 31,
   "id": "0bd98323",
   "metadata": {},
   "outputs": [],
   "source": [
    "def create_db(host, user, password, db_name):\n",
    "    try:\n",
    "        connection = conn.connect(host=host, user=user, passwd=password)\n",
    "        if connection.is_connected():\n",
    "            cursor = connection.cursor()\n",
    "            cursor.execute('create database if not exists '+db_name)\n",
    "            lg.info('Database is created by {}'.format(user))\n",
    "            lg.info('Database is created {}'.format(db_name))\n",
    "    except Exception as e:\n",
    "        lg.exception('Got error while connecting to database :', e)\n",
    "    finally:\n",
    "        connection.close()"
   ]
  },
  {
   "cell_type": "code",
   "execution_count": 32,
   "id": "e0a16eef",
   "metadata": {},
   "outputs": [
    {
     "name": "stdout",
     "output_type": "stream",
     "text": [
      "Enter your host name : localhost\n",
      "Enter your user name : root\n",
      "Password : ········\n",
      "Enter your database name : fitbit\n"
     ]
    }
   ],
   "source": [
    "host = input('Enter your host name : ')\n",
    "user = input('Enter your user name : ')\n",
    "password = getpass.getpass('Password : ')\n",
    "db_name = input('Enter your database name : ')"
   ]
  },
  {
   "cell_type": "code",
   "execution_count": 33,
   "id": "7c4fcd6d",
   "metadata": {},
   "outputs": [],
   "source": [
    "create_db(host, user, password, db_name)"
   ]
  },
  {
   "cell_type": "code",
   "execution_count": 27,
   "id": "387e93b4",
   "metadata": {},
   "outputs": [],
   "source": [
    "def write_data(fname):\n",
    "    try:\n",
    "        connection = conn.connect(host=host, user=user, passwd=password, database= db_name)\n",
    "        if connection.is_connected():\n",
    "            lg.info('Connection successfully establisheed.')\n",
    "            cursor = connection.cursor()\n",
    "            cursor.execute('drop table if exists fitTable;')\n",
    "            print('Creatig Table...')\n",
    "            cursor.execute(\"create table fitTable (ID int(50), Activity_Date datetime(6), Total_steps int(50), Total_Distance float(50), Tracker_Distance float(50), Logged_Activities_Distance float(50), Very_Active_Distance float(50), Moderately_Active_Distance float(50), Light_Active_Distance float(50), Sedentary_Active_Distance float(50), Very_Active_Minutes int(50), Fairly_Active_Minutes int(50), Lightly_Active_Minutes int(50), Sedentary_Minutes int(50), Calories int(50));\")\n",
    "            print('Table created...')\n",
    "            count= 0\n",
    "            with open(fname,'r') as file:\n",
    "                next(file)\n",
    "                my_file = csv.reader(file)\n",
    "                for i in my_file:\n",
    "                    query = \"insert into fitTable values (%s,%s,%s,%s,%s,%s,%s,%s,%s,%s,%s,%s,%s,%s,%s)\"\n",
    "                    cursor.execute(query,list(i))\n",
    "                    lg.info(i)\n",
    "                    count+=1\n",
    "                    print(count)\n",
    "                    connection.commit()     \n",
    "            \n",
    "            lg.info('Total {} number of row read into this file'.format(count))\n",
    "            print('Data inserted...')   \n",
    "    except Exception as e:\n",
    "            lg.exception('Got Error while inserting data to table : ',e)\n",
    "    finally:\n",
    "            connection.close()"
   ]
  },
  {
   "cell_type": "code",
   "execution_count": null,
   "id": "5dd30a19",
   "metadata": {},
   "outputs": [],
   "source": []
  },
  {
   "cell_type": "code",
   "execution_count": 28,
   "id": "d4ee321b",
   "metadata": {},
   "outputs": [
    {
     "name": "stdout",
     "output_type": "stream",
     "text": [
      "Enter your file name : FitBit_data.csv\n"
     ]
    }
   ],
   "source": [
    "fname = input('Enter your file name : ')"
   ]
  },
  {
   "cell_type": "code",
   "execution_count": 29,
   "id": "35c182a3",
   "metadata": {},
   "outputs": [
    {
     "name": "stdout",
     "output_type": "stream",
     "text": [
      "Creatig Table...\n",
      "Table created...\n"
     ]
    },
    {
     "name": "stderr",
     "output_type": "stream",
     "text": [
      "--- Logging error ---\n",
      "Traceback (most recent call last):\n",
      "  File \"C:\\Users\\Sai\\anaconda3\\lib\\site-packages\\mysql\\connector\\connection_cext.py\", line 535, in cmd_query\n",
      "    self._cmysql.query(query,\n",
      "_mysql_connector.MySQLInterfaceError: Incorrect datetime value: '3/25/2016' for column 'Activity_Date' at row 1\n",
      "\n",
      "During handling of the above exception, another exception occurred:\n",
      "\n",
      "Traceback (most recent call last):\n",
      "  File \"C:\\Users\\Sai\\AppData\\Local\\Temp\\ipykernel_15848\\1121444826.py\", line 17, in write_data\n",
      "    cursor.execute(query,list(i))\n",
      "  File \"C:\\Users\\Sai\\anaconda3\\lib\\site-packages\\mysql\\connector\\cursor_cext.py\", line 269, in execute\n",
      "    result = self._cnx.cmd_query(stmt, raw=self._raw,\n",
      "  File \"C:\\Users\\Sai\\anaconda3\\lib\\site-packages\\mysql\\connector\\connection_cext.py\", line 540, in cmd_query\n",
      "    raise errors.get_mysql_exception(exc.errno, msg=exc.msg,\n",
      "mysql.connector.errors.DataError: 1292 (22007): Incorrect datetime value: '3/25/2016' for column 'Activity_Date' at row 1\n",
      "\n",
      "During handling of the above exception, another exception occurred:\n",
      "\n",
      "Traceback (most recent call last):\n",
      "  File \"C:\\Users\\Sai\\anaconda3\\lib\\logging\\__init__.py\", line 1083, in emit\n",
      "    msg = self.format(record)\n",
      "  File \"C:\\Users\\Sai\\anaconda3\\lib\\logging\\__init__.py\", line 927, in format\n",
      "    return fmt.format(record)\n",
      "  File \"C:\\Users\\Sai\\anaconda3\\lib\\logging\\__init__.py\", line 663, in format\n",
      "    record.message = record.getMessage()\n",
      "  File \"C:\\Users\\Sai\\anaconda3\\lib\\logging\\__init__.py\", line 367, in getMessage\n",
      "    msg = msg % self.args\n",
      "TypeError: not all arguments converted during string formatting\n",
      "Call stack:\n",
      "  File \"C:\\Users\\Sai\\anaconda3\\lib\\runpy.py\", line 197, in _run_module_as_main\n",
      "    return _run_code(code, main_globals, None,\n",
      "  File \"C:\\Users\\Sai\\anaconda3\\lib\\runpy.py\", line 87, in _run_code\n",
      "    exec(code, run_globals)\n",
      "  File \"C:\\Users\\Sai\\anaconda3\\lib\\site-packages\\ipykernel_launcher.py\", line 16, in <module>\n",
      "    app.launch_new_instance()\n",
      "  File \"C:\\Users\\Sai\\anaconda3\\lib\\site-packages\\traitlets\\config\\application.py\", line 846, in launch_instance\n",
      "    app.start()\n",
      "  File \"C:\\Users\\Sai\\anaconda3\\lib\\site-packages\\ipykernel\\kernelapp.py\", line 677, in start\n",
      "    self.io_loop.start()\n",
      "  File \"C:\\Users\\Sai\\anaconda3\\lib\\site-packages\\tornado\\platform\\asyncio.py\", line 199, in start\n",
      "    self.asyncio_loop.run_forever()\n",
      "  File \"C:\\Users\\Sai\\anaconda3\\lib\\asyncio\\base_events.py\", line 601, in run_forever\n",
      "    self._run_once()\n",
      "  File \"C:\\Users\\Sai\\anaconda3\\lib\\asyncio\\base_events.py\", line 1905, in _run_once\n",
      "    handle._run()\n",
      "  File \"C:\\Users\\Sai\\anaconda3\\lib\\asyncio\\events.py\", line 80, in _run\n",
      "    self._context.run(self._callback, *self._args)\n",
      "  File \"C:\\Users\\Sai\\anaconda3\\lib\\site-packages\\ipykernel\\kernelbase.py\", line 471, in dispatch_queue\n",
      "    await self.process_one()\n",
      "  File \"C:\\Users\\Sai\\anaconda3\\lib\\site-packages\\ipykernel\\kernelbase.py\", line 460, in process_one\n",
      "    await dispatch(*args)\n",
      "  File \"C:\\Users\\Sai\\anaconda3\\lib\\site-packages\\ipykernel\\kernelbase.py\", line 367, in dispatch_shell\n",
      "    await result\n",
      "  File \"C:\\Users\\Sai\\anaconda3\\lib\\site-packages\\ipykernel\\kernelbase.py\", line 662, in execute_request\n",
      "    reply_content = await reply_content\n",
      "  File \"C:\\Users\\Sai\\anaconda3\\lib\\site-packages\\ipykernel\\ipkernel.py\", line 360, in do_execute\n",
      "    res = shell.run_cell(code, store_history=store_history, silent=silent)\n",
      "  File \"C:\\Users\\Sai\\anaconda3\\lib\\site-packages\\ipykernel\\zmqshell.py\", line 532, in run_cell\n",
      "    return super().run_cell(*args, **kwargs)\n",
      "  File \"C:\\Users\\Sai\\anaconda3\\lib\\site-packages\\IPython\\core\\interactiveshell.py\", line 2863, in run_cell\n",
      "    result = self._run_cell(\n",
      "  File \"C:\\Users\\Sai\\anaconda3\\lib\\site-packages\\IPython\\core\\interactiveshell.py\", line 2909, in _run_cell\n",
      "    return runner(coro)\n",
      "  File \"C:\\Users\\Sai\\anaconda3\\lib\\site-packages\\IPython\\core\\async_helpers.py\", line 129, in _pseudo_sync_runner\n",
      "    coro.send(None)\n",
      "  File \"C:\\Users\\Sai\\anaconda3\\lib\\site-packages\\IPython\\core\\interactiveshell.py\", line 3106, in run_cell_async\n",
      "    has_raised = await self.run_ast_nodes(code_ast.body, cell_name,\n",
      "  File \"C:\\Users\\Sai\\anaconda3\\lib\\site-packages\\IPython\\core\\interactiveshell.py\", line 3309, in run_ast_nodes\n",
      "    if await self.run_code(code, result, async_=asy):\n",
      "  File \"C:\\Users\\Sai\\anaconda3\\lib\\site-packages\\IPython\\core\\interactiveshell.py\", line 3369, in run_code\n",
      "    exec(code_obj, self.user_global_ns, self.user_ns)\n",
      "  File \"C:\\Users\\Sai\\AppData\\Local\\Temp\\ipykernel_15848\\2117582357.py\", line 1, in <cell line: 1>\n",
      "    write_data(fname)\n",
      "  File \"C:\\Users\\Sai\\AppData\\Local\\Temp\\ipykernel_15848\\1121444826.py\", line 26, in write_data\n",
      "    lg.exception('Got Error while inserting data to table : ',e)\n",
      "Message: 'Got Error while inserting data to table : '\n",
      "Arguments: (DataError(1292, \"1292 (22007): Incorrect datetime value: '3/25/2016' for column 'Activity_Date' at row 1\", '22007'),)\n"
     ]
    }
   ],
   "source": [
    "write_data(fname)"
   ]
  },
  {
   "cell_type": "code",
   "execution_count": null,
   "id": "492037f3",
   "metadata": {},
   "outputs": [],
   "source": []
  },
  {
   "cell_type": "code",
   "execution_count": null,
   "id": "14ad4695",
   "metadata": {},
   "outputs": [],
   "source": []
  }
 ],
 "metadata": {
  "kernelspec": {
   "display_name": "Python 3 (ipykernel)",
   "language": "python",
   "name": "python3"
  },
  "language_info": {
   "codemirror_mode": {
    "name": "ipython",
    "version": 3
   },
   "file_extension": ".py",
   "mimetype": "text/x-python",
   "name": "python",
   "nbconvert_exporter": "python",
   "pygments_lexer": "ipython3",
   "version": "3.9.12"
  }
 },
 "nbformat": 4,
 "nbformat_minor": 5
}
