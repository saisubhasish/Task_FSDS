{
 "cells": [
  {
   "cell_type": "code",
   "execution_count": 11,
   "id": "782f3d04",
   "metadata": {},
   "outputs": [],
   "source": [
    "import logging as lg\n",
    "import mysql.connector as conn\n"
   ]
  },
  {
   "cell_type": "code",
   "execution_count": 12,
   "id": "ef40c818",
   "metadata": {},
   "outputs": [],
   "source": [
    "lg.basicConfig(filename='Task.log', level=lg.INFO, format='%(levelname)s %(asctime)s %(name)s %(message)s', filemode='a', datefmt = '%m-%d-%y %H:%M:%S')"
   ]
  },
  {
   "cell_type": "code",
   "execution_count": 13,
   "id": "99189333",
   "metadata": {},
   "outputs": [
    {
     "name": "stdout",
     "output_type": "stream",
     "text": [
      "Enter your host name : localhost\n",
      "Enter your user name : root\n",
      "Password : ········\n",
      "Enter your database name : practice\n"
     ]
    }
   ],
   "source": [
    "host = input('Enter your host name : ')\n",
    "user = input('Enter your user name : ')\n",
    "password = getpass.getpass('Password : ')\n",
    "db_name = input('Enter your database name : ')"
   ]
  },
  {
   "cell_type": "code",
   "execution_count": 14,
   "id": "63a17553",
   "metadata": {},
   "outputs": [],
   "source": [
    "def write_data(host, user, password, db_name):\n",
    "    try:\n",
    "        connection = conn.connect(host=host, user=user, passwd=password, database= db_name)\n",
    "        if connection.is_connected():\n",
    "            lg.info('Connection successfully establisheed.')\n",
    "            \n",
    "            cursor = connection.cursor()\n",
    "            cursor.execute('drop table if exists super_store;')\n",
    "            \n",
    "            print('Creatig Table...')\n",
    "            lg.info('Creatig Table...')\n",
    "            \n",
    "            cursor.execute(\"create table super_store(Row_ID int(20), Order_Priority varchar(50), Discount float(20), Unit_Price float(20), Shipping_Cost float(20), Customer_ID int(20), Customer_Name varchar(50), Ship_Mode varchar(50), Customer_Segment varchar(50), Product_Category varchar(50), Product_Sub_Category varchar(50), Product_Container varchar(50), Product_Name varchar(50), Product_Base_Margin float(20), Region varchar(50), State_or_Province varchar(50), City varchar(50), Postal_Code int(20), Order_Date date, Ship_Date date, Profit float(20), Quantity_ordered_new int(20), Sales float(20), Order_ID int(20));\")\n",
    "            print('Table created and inserting data')\n",
    "            lg.info('Table created and inserting data')\n",
    "            \n",
    "            cursor.execute(\"\"\"load data infile 'D:/FSDS-iNeuron/3.Resource/31st July live class Pandas/Superstore_USA.csv' into table super_store fields terminated by ',' enclosed by '\"' lines terminated by '\\n\\r' ignore 1 rows;\"\"\")     \n",
    "            \n",
    "            lg.info('Data inserted...')\n",
    "            print('Data inserted...')\n",
    "    except Exception as e:\n",
    "            lg.exception('Got Error while inserting data to table : ',e)\n",
    "    finally:\n",
    "            connection.close()"
   ]
  },
  {
   "cell_type": "code",
   "execution_count": null,
   "id": "39510a4b",
   "metadata": {},
   "outputs": [],
   "source": []
  },
  {
   "cell_type": "code",
   "execution_count": 15,
   "id": "6653a38c",
   "metadata": {},
   "outputs": [
    {
     "name": "stdout",
     "output_type": "stream",
     "text": [
      "Creatig Table...\n",
      "Table created and inserting data\n",
      "Data inserted...\n"
     ]
    }
   ],
   "source": [
    "write_data(host, user, password, db_name)"
   ]
  },
  {
   "cell_type": "code",
   "execution_count": null,
   "id": "d7cbce2d",
   "metadata": {},
   "outputs": [],
   "source": []
  }
 ],
 "metadata": {
  "kernelspec": {
   "display_name": "Python 3 (ipykernel)",
   "language": "python",
   "name": "python3"
  },
  "language_info": {
   "codemirror_mode": {
    "name": "ipython",
    "version": 3
   },
   "file_extension": ".py",
   "mimetype": "text/x-python",
   "name": "python",
   "nbconvert_exporter": "python",
   "pygments_lexer": "ipython3",
   "version": "3.9.12"
  }
 },
 "nbformat": 4,
 "nbformat_minor": 5
}
