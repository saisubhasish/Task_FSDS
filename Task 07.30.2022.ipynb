{
 "cells": [
  {
   "cell_type": "code",
   "execution_count": 1,
   "id": "09dfc331",
   "metadata": {},
   "outputs": [],
   "source": [
    "import pandas as pd"
   ]
  },
  {
   "cell_type": "code",
   "execution_count": 2,
   "id": "cf1b01d2",
   "metadata": {},
   "outputs": [],
   "source": [
    "df = pd.read_csv('D:/FSDS-iNeuron/3.Resource/AgentPerformance.csv')"
   ]
  },
  {
   "cell_type": "code",
   "execution_count": 3,
   "id": "f1250ae2",
   "metadata": {},
   "outputs": [
    {
     "data": {
      "text/html": [
       "<div>\n",
       "<style scoped>\n",
       "    .dataframe tbody tr th:only-of-type {\n",
       "        vertical-align: middle;\n",
       "    }\n",
       "\n",
       "    .dataframe tbody tr th {\n",
       "        vertical-align: top;\n",
       "    }\n",
       "\n",
       "    .dataframe thead th {\n",
       "        text-align: right;\n",
       "    }\n",
       "</style>\n",
       "<table border=\"1\" class=\"dataframe\">\n",
       "  <thead>\n",
       "    <tr style=\"text-align: right;\">\n",
       "      <th></th>\n",
       "      <th>SL No</th>\n",
       "      <th>Date</th>\n",
       "      <th>Agent Name</th>\n",
       "      <th>Total Chats</th>\n",
       "      <th>Average Response Time</th>\n",
       "      <th>Average Resolution Time</th>\n",
       "      <th>Average Rating</th>\n",
       "      <th>Total Feedback</th>\n",
       "    </tr>\n",
       "  </thead>\n",
       "  <tbody>\n",
       "    <tr>\n",
       "      <th>0</th>\n",
       "      <td>1</td>\n",
       "      <td>7/30/2022</td>\n",
       "      <td>Prerna Singh</td>\n",
       "      <td>11</td>\n",
       "      <td>0:00:38</td>\n",
       "      <td>0:04:20</td>\n",
       "      <td>4.11</td>\n",
       "      <td>9</td>\n",
       "    </tr>\n",
       "    <tr>\n",
       "      <th>1</th>\n",
       "      <td>2</td>\n",
       "      <td>7/30/2022</td>\n",
       "      <td>Nandani Gupta</td>\n",
       "      <td>11</td>\n",
       "      <td>0:01:15</td>\n",
       "      <td>0:28:25</td>\n",
       "      <td>3.14</td>\n",
       "      <td>7</td>\n",
       "    </tr>\n",
       "    <tr>\n",
       "      <th>2</th>\n",
       "      <td>3</td>\n",
       "      <td>7/30/2022</td>\n",
       "      <td>Ameya Jain</td>\n",
       "      <td>14</td>\n",
       "      <td>0:00:30</td>\n",
       "      <td>0:11:36</td>\n",
       "      <td>4.55</td>\n",
       "      <td>11</td>\n",
       "    </tr>\n",
       "    <tr>\n",
       "      <th>3</th>\n",
       "      <td>4</td>\n",
       "      <td>7/30/2022</td>\n",
       "      <td>Mahesh Sarade</td>\n",
       "      <td>14</td>\n",
       "      <td>0:01:04</td>\n",
       "      <td>0:15:46</td>\n",
       "      <td>4.71</td>\n",
       "      <td>7</td>\n",
       "    </tr>\n",
       "    <tr>\n",
       "      <th>4</th>\n",
       "      <td>5</td>\n",
       "      <td>7/30/2022</td>\n",
       "      <td>Swati</td>\n",
       "      <td>14</td>\n",
       "      <td>0:01:11</td>\n",
       "      <td>0:16:33</td>\n",
       "      <td>3.67</td>\n",
       "      <td>6</td>\n",
       "    </tr>\n",
       "    <tr>\n",
       "      <th>...</th>\n",
       "      <td>...</td>\n",
       "      <td>...</td>\n",
       "      <td>...</td>\n",
       "      <td>...</td>\n",
       "      <td>...</td>\n",
       "      <td>...</td>\n",
       "      <td>...</td>\n",
       "      <td>...</td>\n",
       "    </tr>\n",
       "    <tr>\n",
       "      <th>2155</th>\n",
       "      <td>2156</td>\n",
       "      <td>7/1/2022</td>\n",
       "      <td>Sowmiya Sivakumar</td>\n",
       "      <td>0</td>\n",
       "      <td>0:00:00</td>\n",
       "      <td>0:00:00</td>\n",
       "      <td>0.00</td>\n",
       "      <td>0</td>\n",
       "    </tr>\n",
       "    <tr>\n",
       "      <th>2156</th>\n",
       "      <td>2157</td>\n",
       "      <td>7/1/2022</td>\n",
       "      <td>Nitin M</td>\n",
       "      <td>0</td>\n",
       "      <td>0:00:00</td>\n",
       "      <td>0:00:00</td>\n",
       "      <td>0.00</td>\n",
       "      <td>0</td>\n",
       "    </tr>\n",
       "    <tr>\n",
       "      <th>2157</th>\n",
       "      <td>2158</td>\n",
       "      <td>7/1/2022</td>\n",
       "      <td>Vivek</td>\n",
       "      <td>0</td>\n",
       "      <td>0:00:00</td>\n",
       "      <td>0:00:00</td>\n",
       "      <td>0.00</td>\n",
       "      <td>0</td>\n",
       "    </tr>\n",
       "    <tr>\n",
       "      <th>2158</th>\n",
       "      <td>2159</td>\n",
       "      <td>7/1/2022</td>\n",
       "      <td>Ayushi Mishra</td>\n",
       "      <td>0</td>\n",
       "      <td>0:00:00</td>\n",
       "      <td>0:00:00</td>\n",
       "      <td>0.00</td>\n",
       "      <td>0</td>\n",
       "    </tr>\n",
       "    <tr>\n",
       "      <th>2159</th>\n",
       "      <td>2160</td>\n",
       "      <td>7/1/2022</td>\n",
       "      <td>Chaitra K Hiremath</td>\n",
       "      <td>0</td>\n",
       "      <td>0:00:00</td>\n",
       "      <td>0:00:00</td>\n",
       "      <td>0.00</td>\n",
       "      <td>0</td>\n",
       "    </tr>\n",
       "  </tbody>\n",
       "</table>\n",
       "<p>2160 rows × 8 columns</p>\n",
       "</div>"
      ],
      "text/plain": [
       "      SL No       Date          Agent Name  Total Chats Average Response Time  \\\n",
       "0         1  7/30/2022        Prerna Singh           11               0:00:38   \n",
       "1         2  7/30/2022       Nandani Gupta           11               0:01:15   \n",
       "2         3  7/30/2022          Ameya Jain           14               0:00:30   \n",
       "3         4  7/30/2022       Mahesh Sarade           14               0:01:04   \n",
       "4         5  7/30/2022              Swati            14               0:01:11   \n",
       "...     ...        ...                 ...          ...                   ...   \n",
       "2155   2156   7/1/2022   Sowmiya Sivakumar            0               0:00:00   \n",
       "2156   2157   7/1/2022             Nitin M            0               0:00:00   \n",
       "2157   2158   7/1/2022              Vivek             0               0:00:00   \n",
       "2158   2159   7/1/2022       Ayushi Mishra            0               0:00:00   \n",
       "2159   2160   7/1/2022  Chaitra K Hiremath            0               0:00:00   \n",
       "\n",
       "     Average Resolution Time  Average Rating  Total Feedback  \n",
       "0                    0:04:20            4.11               9  \n",
       "1                    0:28:25            3.14               7  \n",
       "2                    0:11:36            4.55              11  \n",
       "3                    0:15:46            4.71               7  \n",
       "4                    0:16:33            3.67               6  \n",
       "...                      ...             ...             ...  \n",
       "2155                 0:00:00            0.00               0  \n",
       "2156                 0:00:00            0.00               0  \n",
       "2157                 0:00:00            0.00               0  \n",
       "2158                 0:00:00            0.00               0  \n",
       "2159                 0:00:00            0.00               0  \n",
       "\n",
       "[2160 rows x 8 columns]"
      ]
     },
     "execution_count": 3,
     "metadata": {},
     "output_type": "execute_result"
    }
   ],
   "source": [
    "df"
   ]
  },
  {
   "cell_type": "code",
   "execution_count": 4,
   "id": "f7720e4b",
   "metadata": {},
   "outputs": [
    {
     "data": {
      "text/plain": [
       "SL No                        int64\n",
       "Date                        object\n",
       "Agent Name                  object\n",
       "Total Chats                  int64\n",
       "Average Response Time       object\n",
       "Average Resolution Time     object\n",
       "Average Rating             float64\n",
       "Total Feedback               int64\n",
       "dtype: object"
      ]
     },
     "execution_count": 4,
     "metadata": {},
     "output_type": "execute_result"
    }
   ],
   "source": [
    "df.dtypes"
   ]
  },
  {
   "cell_type": "code",
   "execution_count": 5,
   "id": "89783907",
   "metadata": {},
   "outputs": [
    {
     "data": {
      "text/plain": [
       "Index(['SL No', 'Date', 'Agent Name', 'Total Chats', 'Average Response Time',\n",
       "       'Average Resolution Time', 'Average Rating', 'Total Feedback'],\n",
       "      dtype='object')"
      ]
     },
     "execution_count": 5,
     "metadata": {},
     "output_type": "execute_result"
    }
   ],
   "source": [
    "df.columns"
   ]
  },
  {
   "cell_type": "code",
   "execution_count": 6,
   "id": "1dc5cfd1",
   "metadata": {},
   "outputs": [
    {
     "data": {
      "text/plain": [
       "Index(['SL No', 'Date', 'Agent Name', 'Total Chats', 'Average Response Time',\n",
       "       'Average Resolution Time', 'Average Rating', 'Total Feedback'],\n",
       "      dtype='object')"
      ]
     },
     "execution_count": 6,
     "metadata": {},
     "output_type": "execute_result"
    }
   ],
   "source": [
    "df.columns"
   ]
  },
  {
   "cell_type": "code",
   "execution_count": 7,
   "id": "19a0c70b",
   "metadata": {},
   "outputs": [],
   "source": [
    "df['Date'] = pd.to_datetime(df['Date'])"
   ]
  },
  {
   "cell_type": "code",
   "execution_count": 8,
   "id": "0c267716",
   "metadata": {},
   "outputs": [],
   "source": [
    "df['work_year'] = df['Date'].dt.year"
   ]
  },
  {
   "cell_type": "code",
   "execution_count": 9,
   "id": "1f2ef313",
   "metadata": {},
   "outputs": [],
   "source": [
    "df['work_month'] = df['Date'].dt.month"
   ]
  },
  {
   "cell_type": "code",
   "execution_count": 11,
   "id": "dcb2715d",
   "metadata": {},
   "outputs": [],
   "source": [
    "df['work_week'] = df['Date'].dt.isocalendar().week"
   ]
  },
  {
   "cell_type": "code",
   "execution_count": 12,
   "id": "3eae1398",
   "metadata": {},
   "outputs": [],
   "source": [
    "df['work_day'] = df['Date'].dt.day"
   ]
  },
  {
   "cell_type": "code",
   "execution_count": 13,
   "id": "36045638",
   "metadata": {},
   "outputs": [
    {
     "data": {
      "text/html": [
       "<div>\n",
       "<style scoped>\n",
       "    .dataframe tbody tr th:only-of-type {\n",
       "        vertical-align: middle;\n",
       "    }\n",
       "\n",
       "    .dataframe tbody tr th {\n",
       "        vertical-align: top;\n",
       "    }\n",
       "\n",
       "    .dataframe thead th {\n",
       "        text-align: right;\n",
       "    }\n",
       "</style>\n",
       "<table border=\"1\" class=\"dataframe\">\n",
       "  <thead>\n",
       "    <tr style=\"text-align: right;\">\n",
       "      <th></th>\n",
       "      <th>SL No</th>\n",
       "      <th>Date</th>\n",
       "      <th>Agent Name</th>\n",
       "      <th>Total Chats</th>\n",
       "      <th>Average Response Time</th>\n",
       "      <th>Average Resolution Time</th>\n",
       "      <th>Average Rating</th>\n",
       "      <th>Total Feedback</th>\n",
       "      <th>work_year</th>\n",
       "      <th>work_month</th>\n",
       "      <th>work_week</th>\n",
       "      <th>work_day</th>\n",
       "    </tr>\n",
       "  </thead>\n",
       "  <tbody>\n",
       "    <tr>\n",
       "      <th>0</th>\n",
       "      <td>1</td>\n",
       "      <td>2022-07-30</td>\n",
       "      <td>Prerna Singh</td>\n",
       "      <td>11</td>\n",
       "      <td>0:00:38</td>\n",
       "      <td>0:04:20</td>\n",
       "      <td>4.11</td>\n",
       "      <td>9</td>\n",
       "      <td>2022</td>\n",
       "      <td>7</td>\n",
       "      <td>30</td>\n",
       "      <td>30</td>\n",
       "    </tr>\n",
       "    <tr>\n",
       "      <th>1</th>\n",
       "      <td>2</td>\n",
       "      <td>2022-07-30</td>\n",
       "      <td>Nandani Gupta</td>\n",
       "      <td>11</td>\n",
       "      <td>0:01:15</td>\n",
       "      <td>0:28:25</td>\n",
       "      <td>3.14</td>\n",
       "      <td>7</td>\n",
       "      <td>2022</td>\n",
       "      <td>7</td>\n",
       "      <td>30</td>\n",
       "      <td>30</td>\n",
       "    </tr>\n",
       "    <tr>\n",
       "      <th>2</th>\n",
       "      <td>3</td>\n",
       "      <td>2022-07-30</td>\n",
       "      <td>Ameya Jain</td>\n",
       "      <td>14</td>\n",
       "      <td>0:00:30</td>\n",
       "      <td>0:11:36</td>\n",
       "      <td>4.55</td>\n",
       "      <td>11</td>\n",
       "      <td>2022</td>\n",
       "      <td>7</td>\n",
       "      <td>30</td>\n",
       "      <td>30</td>\n",
       "    </tr>\n",
       "    <tr>\n",
       "      <th>3</th>\n",
       "      <td>4</td>\n",
       "      <td>2022-07-30</td>\n",
       "      <td>Mahesh Sarade</td>\n",
       "      <td>14</td>\n",
       "      <td>0:01:04</td>\n",
       "      <td>0:15:46</td>\n",
       "      <td>4.71</td>\n",
       "      <td>7</td>\n",
       "      <td>2022</td>\n",
       "      <td>7</td>\n",
       "      <td>30</td>\n",
       "      <td>30</td>\n",
       "    </tr>\n",
       "    <tr>\n",
       "      <th>4</th>\n",
       "      <td>5</td>\n",
       "      <td>2022-07-30</td>\n",
       "      <td>Swati</td>\n",
       "      <td>14</td>\n",
       "      <td>0:01:11</td>\n",
       "      <td>0:16:33</td>\n",
       "      <td>3.67</td>\n",
       "      <td>6</td>\n",
       "      <td>2022</td>\n",
       "      <td>7</td>\n",
       "      <td>30</td>\n",
       "      <td>30</td>\n",
       "    </tr>\n",
       "  </tbody>\n",
       "</table>\n",
       "</div>"
      ],
      "text/plain": [
       "   SL No       Date     Agent Name  Total Chats Average Response Time  \\\n",
       "0      1 2022-07-30   Prerna Singh           11               0:00:38   \n",
       "1      2 2022-07-30  Nandani Gupta           11               0:01:15   \n",
       "2      3 2022-07-30     Ameya Jain           14               0:00:30   \n",
       "3      4 2022-07-30  Mahesh Sarade           14               0:01:04   \n",
       "4      5 2022-07-30         Swati            14               0:01:11   \n",
       "\n",
       "  Average Resolution Time  Average Rating  Total Feedback  work_year  \\\n",
       "0                 0:04:20            4.11               9       2022   \n",
       "1                 0:28:25            3.14               7       2022   \n",
       "2                 0:11:36            4.55              11       2022   \n",
       "3                 0:15:46            4.71               7       2022   \n",
       "4                 0:16:33            3.67               6       2022   \n",
       "\n",
       "   work_month  work_week  work_day  \n",
       "0           7         30        30  \n",
       "1           7         30        30  \n",
       "2           7         30        30  \n",
       "3           7         30        30  \n",
       "4           7         30        30  "
      ]
     },
     "execution_count": 13,
     "metadata": {},
     "output_type": "execute_result"
    }
   ],
   "source": [
    "df.head()"
   ]
  },
  {
   "cell_type": "code",
   "execution_count": 14,
   "id": "cd966a5d",
   "metadata": {},
   "outputs": [
    {
     "data": {
      "text/plain": [
       "Agent Name  work_week\n",
       "Abhishek    26           0.000000\n",
       "            27           0.000000\n",
       "            28           0.000000\n",
       "            29           0.000000\n",
       "            30           0.000000\n",
       "                           ...   \n",
       "Zeeshan     26           0.000000\n",
       "            27           1.307143\n",
       "            28           2.948571\n",
       "            29           3.180000\n",
       "            30           2.760000\n",
       "Name: Average Rating, Length: 350, dtype: float64"
      ]
     },
     "execution_count": 14,
     "metadata": {},
     "output_type": "execute_result"
    }
   ],
   "source": [
    "#This is the code to get average rating for each agents weekly basis\n",
    "\n",
    "df.groupby(['Agent Name', 'work_week'])['Average Rating'].mean()"
   ]
  },
  {
   "cell_type": "code",
   "execution_count": 19,
   "id": "c742fd1a",
   "metadata": {},
   "outputs": [
    {
     "data": {
      "text/plain": [
       "Agent Name\n",
       "Abhishek         465\n",
       "Aditya           465\n",
       "Aditya Shinde    465\n",
       "Aditya_iot       465\n",
       "Amersh           465\n",
       "                ... \n",
       "Uday Mishra      465\n",
       "Vasanth P        465\n",
       "Vivek            465\n",
       "Wasim            465\n",
       "Zeeshan          465\n",
       "Name: work_day, Length: 70, dtype: int64"
      ]
     },
     "execution_count": 19,
     "metadata": {},
     "output_type": "execute_result"
    }
   ],
   "source": [
    "# This is the code to get total working days for each agents\n",
    "\n",
    "df.groupby(['Agent Name'])['work_day'].sum()"
   ]
  },
  {
   "cell_type": "code",
   "execution_count": 20,
   "id": "a1bbe876",
   "metadata": {},
   "outputs": [
    {
     "data": {
      "text/plain": [
       "Agent Name\n",
       "Abhishek           0\n",
       "Aditya             0\n",
       "Aditya Shinde    277\n",
       "Aditya_iot       231\n",
       "Amersh             0\n",
       "                ... \n",
       "Uday Mishra        0\n",
       "Vasanth P          0\n",
       "Vivek             44\n",
       "Wasim            433\n",
       "Zeeshan          542\n",
       "Name: Total Chats, Length: 70, dtype: int64"
      ]
     },
     "execution_count": 20,
     "metadata": {},
     "output_type": "execute_result"
    }
   ],
   "source": [
    "# This is the code to get total query by each agents\n",
    "\n",
    "df.groupby('Agent Name')['Total Chats'].sum()"
   ]
  },
  {
   "cell_type": "code",
   "execution_count": 21,
   "id": "d145becd",
   "metadata": {},
   "outputs": [
    {
     "data": {
      "text/plain": [
       "Agent Name\n",
       "Abhishek           0\n",
       "Aditya             0\n",
       "Aditya Shinde    153\n",
       "Aditya_iot       131\n",
       "Amersh             0\n",
       "                ... \n",
       "Uday Mishra        0\n",
       "Vasanth P          0\n",
       "Vivek             20\n",
       "Wasim            284\n",
       "Zeeshan          335\n",
       "Name: Total Feedback, Length: 70, dtype: int64"
      ]
     },
     "execution_count": 21,
     "metadata": {},
     "output_type": "execute_result"
    }
   ],
   "source": [
    "# This is the code to get total feedback received by each agent\n",
    "\n",
    "df.groupby('Agent Name')['Total Feedback'].sum()"
   ]
  },
  {
   "cell_type": "code",
   "execution_count": 22,
   "id": "66bcd94d",
   "metadata": {},
   "outputs": [
    {
     "data": {
      "text/html": [
       "<div>\n",
       "<style scoped>\n",
       "    .dataframe tbody tr th:only-of-type {\n",
       "        vertical-align: middle;\n",
       "    }\n",
       "\n",
       "    .dataframe tbody tr th {\n",
       "        vertical-align: top;\n",
       "    }\n",
       "\n",
       "    .dataframe thead th {\n",
       "        text-align: right;\n",
       "    }\n",
       "</style>\n",
       "<table border=\"1\" class=\"dataframe\">\n",
       "  <thead>\n",
       "    <tr style=\"text-align: right;\">\n",
       "      <th></th>\n",
       "      <th>SL No</th>\n",
       "      <th>Date</th>\n",
       "      <th>Agent Name</th>\n",
       "      <th>Total Chats</th>\n",
       "      <th>Average Response Time</th>\n",
       "      <th>Average Resolution Time</th>\n",
       "      <th>Average Rating</th>\n",
       "      <th>Total Feedback</th>\n",
       "      <th>work_year</th>\n",
       "      <th>work_month</th>\n",
       "      <th>work_week</th>\n",
       "      <th>work_day</th>\n",
       "    </tr>\n",
       "  </thead>\n",
       "  <tbody>\n",
       "    <tr>\n",
       "      <th>0</th>\n",
       "      <td>1</td>\n",
       "      <td>2022-07-30</td>\n",
       "      <td>Prerna Singh</td>\n",
       "      <td>11</td>\n",
       "      <td>0:00:38</td>\n",
       "      <td>0:04:20</td>\n",
       "      <td>4.11</td>\n",
       "      <td>9</td>\n",
       "      <td>2022</td>\n",
       "      <td>7</td>\n",
       "      <td>30</td>\n",
       "      <td>30</td>\n",
       "    </tr>\n",
       "    <tr>\n",
       "      <th>1</th>\n",
       "      <td>2</td>\n",
       "      <td>2022-07-30</td>\n",
       "      <td>Nandani Gupta</td>\n",
       "      <td>11</td>\n",
       "      <td>0:01:15</td>\n",
       "      <td>0:28:25</td>\n",
       "      <td>3.14</td>\n",
       "      <td>7</td>\n",
       "      <td>2022</td>\n",
       "      <td>7</td>\n",
       "      <td>30</td>\n",
       "      <td>30</td>\n",
       "    </tr>\n",
       "    <tr>\n",
       "      <th>2</th>\n",
       "      <td>3</td>\n",
       "      <td>2022-07-30</td>\n",
       "      <td>Ameya Jain</td>\n",
       "      <td>14</td>\n",
       "      <td>0:00:30</td>\n",
       "      <td>0:11:36</td>\n",
       "      <td>4.55</td>\n",
       "      <td>11</td>\n",
       "      <td>2022</td>\n",
       "      <td>7</td>\n",
       "      <td>30</td>\n",
       "      <td>30</td>\n",
       "    </tr>\n",
       "    <tr>\n",
       "      <th>3</th>\n",
       "      <td>4</td>\n",
       "      <td>2022-07-30</td>\n",
       "      <td>Mahesh Sarade</td>\n",
       "      <td>14</td>\n",
       "      <td>0:01:04</td>\n",
       "      <td>0:15:46</td>\n",
       "      <td>4.71</td>\n",
       "      <td>7</td>\n",
       "      <td>2022</td>\n",
       "      <td>7</td>\n",
       "      <td>30</td>\n",
       "      <td>30</td>\n",
       "    </tr>\n",
       "    <tr>\n",
       "      <th>4</th>\n",
       "      <td>5</td>\n",
       "      <td>2022-07-30</td>\n",
       "      <td>Swati</td>\n",
       "      <td>14</td>\n",
       "      <td>0:01:11</td>\n",
       "      <td>0:16:33</td>\n",
       "      <td>3.67</td>\n",
       "      <td>6</td>\n",
       "      <td>2022</td>\n",
       "      <td>7</td>\n",
       "      <td>30</td>\n",
       "      <td>30</td>\n",
       "    </tr>\n",
       "    <tr>\n",
       "      <th>...</th>\n",
       "      <td>...</td>\n",
       "      <td>...</td>\n",
       "      <td>...</td>\n",
       "      <td>...</td>\n",
       "      <td>...</td>\n",
       "      <td>...</td>\n",
       "      <td>...</td>\n",
       "      <td>...</td>\n",
       "      <td>...</td>\n",
       "      <td>...</td>\n",
       "      <td>...</td>\n",
       "      <td>...</td>\n",
       "    </tr>\n",
       "    <tr>\n",
       "      <th>2155</th>\n",
       "      <td>2156</td>\n",
       "      <td>2022-07-01</td>\n",
       "      <td>Sowmiya Sivakumar</td>\n",
       "      <td>0</td>\n",
       "      <td>0:00:00</td>\n",
       "      <td>0:00:00</td>\n",
       "      <td>0.00</td>\n",
       "      <td>0</td>\n",
       "      <td>2022</td>\n",
       "      <td>7</td>\n",
       "      <td>26</td>\n",
       "      <td>1</td>\n",
       "    </tr>\n",
       "    <tr>\n",
       "      <th>2156</th>\n",
       "      <td>2157</td>\n",
       "      <td>2022-07-01</td>\n",
       "      <td>Nitin M</td>\n",
       "      <td>0</td>\n",
       "      <td>0:00:00</td>\n",
       "      <td>0:00:00</td>\n",
       "      <td>0.00</td>\n",
       "      <td>0</td>\n",
       "      <td>2022</td>\n",
       "      <td>7</td>\n",
       "      <td>26</td>\n",
       "      <td>1</td>\n",
       "    </tr>\n",
       "    <tr>\n",
       "      <th>2157</th>\n",
       "      <td>2158</td>\n",
       "      <td>2022-07-01</td>\n",
       "      <td>Vivek</td>\n",
       "      <td>0</td>\n",
       "      <td>0:00:00</td>\n",
       "      <td>0:00:00</td>\n",
       "      <td>0.00</td>\n",
       "      <td>0</td>\n",
       "      <td>2022</td>\n",
       "      <td>7</td>\n",
       "      <td>26</td>\n",
       "      <td>1</td>\n",
       "    </tr>\n",
       "    <tr>\n",
       "      <th>2158</th>\n",
       "      <td>2159</td>\n",
       "      <td>2022-07-01</td>\n",
       "      <td>Ayushi Mishra</td>\n",
       "      <td>0</td>\n",
       "      <td>0:00:00</td>\n",
       "      <td>0:00:00</td>\n",
       "      <td>0.00</td>\n",
       "      <td>0</td>\n",
       "      <td>2022</td>\n",
       "      <td>7</td>\n",
       "      <td>26</td>\n",
       "      <td>1</td>\n",
       "    </tr>\n",
       "    <tr>\n",
       "      <th>2159</th>\n",
       "      <td>2160</td>\n",
       "      <td>2022-07-01</td>\n",
       "      <td>Chaitra K Hiremath</td>\n",
       "      <td>0</td>\n",
       "      <td>0:00:00</td>\n",
       "      <td>0:00:00</td>\n",
       "      <td>0.00</td>\n",
       "      <td>0</td>\n",
       "      <td>2022</td>\n",
       "      <td>7</td>\n",
       "      <td>26</td>\n",
       "      <td>1</td>\n",
       "    </tr>\n",
       "  </tbody>\n",
       "</table>\n",
       "<p>2160 rows × 12 columns</p>\n",
       "</div>"
      ],
      "text/plain": [
       "      SL No       Date          Agent Name  Total Chats Average Response Time  \\\n",
       "0         1 2022-07-30        Prerna Singh           11               0:00:38   \n",
       "1         2 2022-07-30       Nandani Gupta           11               0:01:15   \n",
       "2         3 2022-07-30          Ameya Jain           14               0:00:30   \n",
       "3         4 2022-07-30       Mahesh Sarade           14               0:01:04   \n",
       "4         5 2022-07-30              Swati            14               0:01:11   \n",
       "...     ...        ...                 ...          ...                   ...   \n",
       "2155   2156 2022-07-01   Sowmiya Sivakumar            0               0:00:00   \n",
       "2156   2157 2022-07-01             Nitin M            0               0:00:00   \n",
       "2157   2158 2022-07-01              Vivek             0               0:00:00   \n",
       "2158   2159 2022-07-01       Ayushi Mishra            0               0:00:00   \n",
       "2159   2160 2022-07-01  Chaitra K Hiremath            0               0:00:00   \n",
       "\n",
       "     Average Resolution Time  Average Rating  Total Feedback  work_year  \\\n",
       "0                    0:04:20            4.11               9       2022   \n",
       "1                    0:28:25            3.14               7       2022   \n",
       "2                    0:11:36            4.55              11       2022   \n",
       "3                    0:15:46            4.71               7       2022   \n",
       "4                    0:16:33            3.67               6       2022   \n",
       "...                      ...             ...             ...        ...   \n",
       "2155                 0:00:00            0.00               0       2022   \n",
       "2156                 0:00:00            0.00               0       2022   \n",
       "2157                 0:00:00            0.00               0       2022   \n",
       "2158                 0:00:00            0.00               0       2022   \n",
       "2159                 0:00:00            0.00               0       2022   \n",
       "\n",
       "      work_month  work_week  work_day  \n",
       "0              7         30        30  \n",
       "1              7         30        30  \n",
       "2              7         30        30  \n",
       "3              7         30        30  \n",
       "4              7         30        30  \n",
       "...          ...        ...       ...  \n",
       "2155           7         26         1  \n",
       "2156           7         26         1  \n",
       "2157           7         26         1  \n",
       "2158           7         26         1  \n",
       "2159           7         26         1  \n",
       "\n",
       "[2160 rows x 12 columns]"
      ]
     },
     "execution_count": 22,
     "metadata": {},
     "output_type": "execute_result"
    }
   ],
   "source": [
    "df"
   ]
  },
  {
   "cell_type": "code",
   "execution_count": 23,
   "id": "5ed65831",
   "metadata": {},
   "outputs": [
    {
     "data": {
      "text/plain": [
       "'Shivananda Sonwane'"
      ]
     },
     "execution_count": 23,
     "metadata": {},
     "output_type": "execute_result"
    }
   ],
   "source": [
    "[118]\n",
    "# This is my code to get an agent name having average rating in between 3.5 to 4\n",
    "\n",
    "from random import choice\n",
    "\n",
    "names = []\n",
    "for i in df[(df['Average Rating'] > 3.5) & (df['Average Rating'] < 5)]['Agent Name']:\n",
    "    names.append(i)\n",
    "    \n",
    "#print(l)\n",
    "choice(names)"
   ]
  },
  {
   "cell_type": "code",
   "execution_count": 24,
   "id": "45e88800",
   "metadata": {},
   "outputs": [
    {
     "data": {
      "text/plain": [
       "'Tarun '"
      ]
     },
     "execution_count": 24,
     "metadata": {},
     "output_type": "execute_result"
    }
   ],
   "source": [
    "# This is my code to get an agent name having rating less than 3.5\n",
    "\n",
    "names = []\n",
    "for i in df[df['Average Rating'] < 3.5]['Agent Name']:\n",
    "    names.append(i)\n",
    "    \n",
    "choice(names)"
   ]
  },
  {
   "cell_type": "code",
   "execution_count": 25,
   "id": "49ea435a",
   "metadata": {},
   "outputs": [
    {
     "data": {
      "text/plain": [
       "'Chaitra K Hiremath'"
      ]
     },
     "execution_count": 25,
     "metadata": {},
     "output_type": "execute_result"
    }
   ],
   "source": [
    "# This is my code to get an agent name having rating more than 4.5\n",
    "\n",
    "names = []\n",
    "for i in df[df['Average Rating'] > 4.5]['Agent Name']:\n",
    "    names.append(i)\n",
    "    \n",
    "choice(names)"
   ]
  },
  {
   "cell_type": "code",
   "execution_count": 26,
   "id": "bfeec3d6",
   "metadata": {},
   "outputs": [
    {
     "data": {
      "text/plain": [
       "307"
      ]
     },
     "execution_count": 26,
     "metadata": {},
     "output_type": "execute_result"
    }
   ],
   "source": [
    "# This is my code to find number of feedbacks above 4.5 Average Rating \n",
    "\n",
    "len(df[df['Average Rating'] > 4.5])"
   ]
  },
  {
   "cell_type": "code",
   "execution_count": 27,
   "id": "9ab008b5",
   "metadata": {},
   "outputs": [],
   "source": [
    "df['Average Response Time'] = pd.to_datetime(df['Average Response Time'])"
   ]
  },
  {
   "cell_type": "code",
   "execution_count": 33,
   "id": "b6ac0530",
   "metadata": {},
   "outputs": [
    {
     "data": {
      "text/plain": [
       "Agent Name  work_week\n",
       "Abhishek    26          2022-08-08 00:00:00.000000000\n",
       "            27          2022-08-08 00:00:00.000000000\n",
       "            28          2022-08-08 00:00:00.000000000\n",
       "            29          2022-08-08 00:00:00.000000000\n",
       "            30          2022-08-08 00:00:00.000000000\n",
       "                                     ...             \n",
       "Zeeshan     26          2022-08-08 00:00:00.000000000\n",
       "            27          2022-08-08 00:00:23.571428608\n",
       "            28          2022-08-08 00:02:03.428571392\n",
       "            29          2022-08-08 00:01:02.857142784\n",
       "            30          2022-08-08 00:01:03.833333504\n",
       "Name: Average Response Time, Length: 350, dtype: datetime64[ns]"
      ]
     },
     "execution_count": 33,
     "metadata": {},
     "output_type": "execute_result"
    }
   ],
   "source": [
    "# This is my code to find weekly response time of each agent\n",
    "\n",
    "df.groupby(['Agent Name', 'work_week'])['Average Response Time'].mean()"
   ]
  },
  {
   "cell_type": "code",
   "execution_count": 34,
   "id": "cf151623",
   "metadata": {},
   "outputs": [],
   "source": [
    "df['Average Resolution Time'] = pd.to_datetime(df['Average Resolution Time'])"
   ]
  },
  {
   "cell_type": "code",
   "execution_count": 37,
   "id": "81242e1e",
   "metadata": {},
   "outputs": [
    {
     "data": {
      "text/plain": [
       "Agent Name\n",
       "Abhishek        2022-08-08 00:00:00.000000000\n",
       "Aditya          2022-08-08 00:00:00.000000000\n",
       "Aditya Shinde   2022-08-08 00:10:20.633333248\n",
       "Aditya_iot      2022-08-08 00:09:49.300000000\n",
       "Amersh          2022-08-08 00:00:00.000000000\n",
       "                             ...             \n",
       "Uday Mishra     2022-08-08 00:00:00.000000000\n",
       "Vasanth P       2022-08-08 00:00:00.000000000\n",
       "Vivek           2022-08-08 00:02:32.766666496\n",
       "Wasim           2022-08-08 00:11:28.866666752\n",
       "Zeeshan         2022-08-08 00:10:45.066666752\n",
       "Name: Average Resolution Time, Length: 70, dtype: datetime64[ns]"
      ]
     },
     "execution_count": 37,
     "metadata": {},
     "output_type": "execute_result"
    }
   ],
   "source": [
    "# This is my code to find weekly average resolution time\n",
    "\n",
    "df.groupby('Agent Name')['Average Resolution Time'].mean()"
   ]
  },
  {
   "cell_type": "code",
   "execution_count": 38,
   "id": "2aecf1fa",
   "metadata": {},
   "outputs": [
    {
     "name": "stdout",
     "output_type": "stream",
     "text": [
      "The list of agent names : ['Prerna Singh', 'Nandani Gupta', 'Ameya Jain', 'Mahesh Sarade', 'Swati ', 'Mukesh ', 'Saikumarreddy N', 'Sanjeev Kumar', 'Shubham Sharma', 'Nishtha Jain', 'Manjunatha A', 'Khushboo Priya', 'Suraj S Bilgi', 'Harikrishnan Shaji', 'Hrisikesh Neogi', 'Shivan K', 'Sowmiya Sivakumar', 'Madhulika G', 'Mithun S', 'Hitesh Choudhary', 'Sanjeevan ', 'Anirudh ', 'Shiva Srivastava', 'Dibyanshu ', 'Ashish ', 'Uday Mishra', 'Aditya Shinde', 'Jayant Kumar', 'Aditya_iot ', 'Prabir Kumar Satapathy', 'Saurabh Shukla', 'Wasim ', 'Samprit ', 'Maitry ', 'Abhishek ', 'Rishav Dash', 'Aravind ', 'Tarun ', 'Muskan Garg', 'Ankit Sharma', 'Bharath ', 'Ashad Nasim', 'Vasanth P', 'Aditya ', 'Amersh ', 'Sandipan Saha', 'Ineuron Intelligence ', 'Mahak ', 'Mukesh Rao ', 'Zeeshan ', 'Rishav Dash', 'Anurag Tiwari', 'Ankitjha ', 'Saif Khan', 'Jaydeep Dixit', 'Sudhanshu Kumar', 'Maneesh ', 'Hyder Abbas', 'Ashish ', 'Rohan ', 'Vivek ', 'Nitin M', 'Shivan_S ', 'Spuri ', 'Ayushi Mishra', 'Chaitra K Hiremath', 'Prateek _iot ', 'Boktiar Ahmed Bappy', 'Shivananda Sonwane', 'Ishawant Kumar', 'Deepranjan Gupta', 'Jawala Prakash', 'Shivananda Sonwane', 'Boktiar Ahmed Bappy', 'Shiva Srivastava', 'Muskan Garg', 'Prateek _iot ', 'Aditya_iot ', 'Nandani Gupta', 'Prerna Singh', 'Jaydeep Dixit', 'Sanjeev Kumar', 'Mahesh Sarade', 'Zeeshan ', 'Mukesh ', 'Chaitra K Hiremath', 'Suraj S Bilgi', 'Shivan K', 'Mithun S', 'Rishav Dash', 'Madhulika G', 'Hrisikesh Neogi', 'Sowmiya Sivakumar', 'Wasim ', 'Prabir Kumar Satapathy', 'Bharath ', 'Hitesh Choudhary', 'Sanjeevan ', 'Anirudh ', 'Dibyanshu ', 'Ashish ', 'Uday Mishra', 'Aditya Shinde', 'Nishtha Jain', 'Jayant Kumar', 'Swati ', 'Saurabh Shukla', 'Samprit ', 'Ankit Sharma', 'Abhishek ', 'Rishav Dash', 'Aravind ', 'Khushboo Priya', 'Maitry ', 'Tarun ', 'Ashad Nasim', 'Vasanth P', 'Aditya ', 'Amersh ', 'Shubham Sharma', 'Ineuron Intelligence ', 'Mahak ', 'Sandipan Saha', 'Mukesh Rao ', 'Manjunatha A', 'Ameya Jain', 'Ankitjha ', 'Anurag Tiwari', 'Saif Khan', 'Ashish ', 'Harikrishnan Shaji', 'Sudhanshu Kumar', 'Maneesh ', 'Hyder Abbas', 'Saikumarreddy N', 'Rohan ', 'Vivek ', 'Shivan_S ', 'Nitin M', 'Spuri ', 'Ishawant Kumar', 'Jawala Prakash', 'Ayushi Mishra', 'Deepranjan Gupta', 'Ayushi Mishra', 'Shiva Srivastava', 'Muskan Garg', 'Deepranjan Gupta', 'Aditya_iot ', 'Prateek _iot ', 'Shubham Sharma', 'Ameya Jain', 'Jaydeep Dixit', 'Saikumarreddy N', 'Zeeshan ', 'Chaitra K Hiremath', 'Rishav Dash', 'Khushboo Priya', 'Wasim ', 'Nishtha Jain', 'Harikrishnan Shaji', 'Manjunatha A', 'Prabir Kumar Satapathy', 'Bharath ', 'Hitesh Choudhary', 'Sanjeev Kumar', 'Sanjeevan ', 'Mukesh ', 'Anirudh ', 'Dibyanshu ', 'Ashish ', 'Hrisikesh Neogi', 'Uday Mishra', 'Aditya Shinde', 'Jayant Kumar', 'Swati ', 'Mithun S', 'Prerna Singh', 'Saurabh Shukla', 'Samprit ', 'Ankit Sharma', 'Abhishek ', 'Rishav Dash', 'Aravind ', 'Maitry ', 'Tarun ', 'Ashad Nasim', 'Vasanth P', 'Aditya ', 'Amersh ', 'Mahak ', 'Ineuron Intelligence ', 'Sandipan Saha', 'Mukesh Rao ', 'Ankitjha ', 'Saif Khan', 'Anurag Tiwari', 'Ashish ', 'Sudhanshu Kumar', 'Maneesh ', 'Hyder Abbas', 'Suraj S Bilgi', 'Rohan ', 'Nandani Gupta', 'Vivek ', 'Shivan_S ', 'Nitin M', 'Shivan K', 'Spuri ', 'Mahesh Sarade', 'Madhulika G', 'Sowmiya Sivakumar', 'Ishawant Kumar', 'Shivananda Sonwane', 'Jawala Prakash', 'Boktiar Ahmed Bappy', 'Ishawant Kumar', 'Jawala Prakash', 'Shiva Srivastava', 'Muskan Garg', 'Prateek _iot ', 'Aditya_iot ', 'Prerna Singh', 'Mahesh Sarade', 'Sanjeev Kumar', 'Nandani Gupta', 'Saikumarreddy N', 'Zeeshan ', 'Ameya Jain', 'Shubham Sharma', 'Chaitra K Hiremath', 'Ankitjha ', 'Nishtha Jain', 'Khushboo Priya', 'Mithun S', 'Wasim ', 'Sowmiya Sivakumar', 'Hrisikesh Neogi', 'Harikrishnan Shaji', 'Manjunatha A', 'Madhulika G', 'Bharath ', 'Hitesh Choudhary', 'Sanjeevan ', 'Mukesh ', 'Anirudh ', 'Dibyanshu ', 'Ashish ', 'Uday Mishra', 'Aditya Shinde', 'Jayant Kumar', 'Swati ', 'Prabir Kumar Satapathy', 'Saurabh Shukla', 'Ankit Sharma', 'Samprit ', 'Abhishek ', 'Rishav Dash', 'Aravind ', 'Tarun ', 'Ashad Nasim', 'Vasanth P', 'Aditya ', 'Amersh ', 'Mahak ', 'Ineuron Intelligence ', 'Sandipan Saha', 'Mukesh Rao ', 'Rishav Dash', 'Saif Khan', 'Anurag Tiwari', 'Ashish ', 'Sudhanshu Kumar', 'Maneesh ', 'Hyder Abbas', 'Suraj S Bilgi', 'Rohan ', 'Vivek ', 'Shivan_S ', 'Nitin M', 'Shivan K', 'Spuri ', 'Jaydeep Dixit', 'Maitry ', 'Shivananda Sonwane', 'Ayushi Mishra', 'Boktiar Ahmed Bappy', 'Deepranjan Gupta', 'Maitry ', 'Shiva Srivastava', 'Muskan Garg', 'Ankitjha ', 'Aditya_iot ', 'Prateek _iot ', 'Nandani Gupta', 'Saikumarreddy N', 'Prerna Singh', 'Jaydeep Dixit', 'Chaitra K Hiremath', 'Sanjeev Kumar', 'Mahesh Sarade', 'Harikrishnan Shaji', 'Shivan K', 'Sowmiya Sivakumar', 'Khushboo Priya', 'Hrisikesh Neogi', 'Mithun S', 'Madhulika G', 'Wasim ', 'Rishav Dash', 'Prabir Kumar Satapathy', 'Hitesh Choudhary', 'Sanjeevan ', 'Mukesh ', 'Anirudh ', 'Dibyanshu ', 'Ashish ', 'Uday Mishra', 'Aditya Shinde', 'Nishtha Jain', 'Jayant Kumar', 'Swati ', 'Saurabh Shukla', 'Ankit Sharma', 'Samprit ', 'Abhishek ', 'Rishav Dash', 'Aravind ', 'Tarun ', 'Bharath ', 'Ashad Nasim', 'Vasanth P', 'Aditya ', 'Amersh ', 'Shubham Sharma', 'Mahak ', 'Ineuron Intelligence ', 'Sandipan Saha', 'Zeeshan ', 'Mukesh Rao ', 'Manjunatha A', 'Ameya Jain', 'Saif Khan', 'Anurag Tiwari', 'Ashish ', 'Sudhanshu Kumar', 'Maneesh ', 'Hyder Abbas', 'Suraj S Bilgi', 'Rohan ', 'Vivek ', 'Shivan_S ', 'Nitin M', 'Spuri ', 'Ishawant Kumar', 'Boktiar Ahmed Bappy', 'Ayushi Mishra', 'Deepranjan Gupta', 'Jawala Prakash', 'Shivananda Sonwane', 'Shivananda Sonwane', 'Boktiar Ahmed Bappy', 'Shiva Srivastava', 'Prateek _iot ', 'Aditya_iot ', 'Muskan Garg', 'Ameya Jain', 'Sanjeev Kumar', 'Swati ', 'Prerna Singh', 'Shubham Sharma', 'Zeeshan ', 'Jaydeep Dixit', 'Chaitra K Hiremath', 'Shivan K', 'Harikrishnan Shaji', 'Rishav Dash', 'Sowmiya Sivakumar', 'Mithun S', 'Manjunatha A', 'Wasim ', 'Bharath ', 'Nishtha Jain', 'Hitesh Choudhary', 'Sanjeevan ', 'Mukesh ', 'Anirudh ', 'Dibyanshu ', 'Ashish ', 'Hrisikesh Neogi', 'Aditya Shinde', 'Uday Mishra', 'Jayant Kumar', 'Prabir Kumar Satapathy', 'Saurabh Shukla', 'Ankit Sharma', 'Samprit ', 'Abhishek ', 'Rishav Dash', 'Khushboo Priya', 'Aravind ', 'Tarun ', 'Ashad Nasim', 'Aditya ', 'Amersh ', 'Vasanth P', 'Mahak ', 'Ineuron Intelligence ', 'Sandipan Saha', 'Mukesh Rao ', 'Saif Khan', 'Anurag Tiwari', 'Ankitjha ', 'Ashish ', 'Maneesh ', 'Hyder Abbas', 'Sudhanshu Kumar', 'Saikumarreddy N', 'Suraj S Bilgi', 'Rohan ', 'Spuri ', 'Nandani Gupta', 'Vivek ', 'Shivan_S ', 'Nitin M', 'Mahesh Sarade', 'Madhulika G', 'Jawala Prakash', 'Maitry ', 'Deepranjan Gupta', 'Ishawant Kumar', 'Ayushi Mishra', 'Shiva Srivastava', 'Jawala Prakash', 'Deepranjan Gupta', 'Ishawant Kumar', 'Jaydeep Dixit', 'Swati ', 'Shubham Sharma', 'Mahesh Sarade', 'Ameya Jain', 'Aravind ', 'Zeeshan ', 'Saikumarreddy N', 'Nishtha Jain', 'Khushboo Priya', 'Shivan K', 'Madhulika G', 'Rishav Dash', 'Prabir Kumar Satapathy', 'Manjunatha A', 'Hrisikesh Neogi', 'Bharath ', 'Hitesh Choudhary', 'Sanjeevan ', 'Sanjeev Kumar', 'Mukesh ', 'Anirudh ', 'Dibyanshu ', 'Ashish ', 'Aditya Shinde', 'Uday Mishra', 'Aditya_iot ', 'Jayant Kumar', 'Hyder Abbas', 'Mithun S', 'Saurabh Shukla', 'Wasim ', 'Ankit Sharma', 'Samprit ', 'Abhishek ', 'Prerna Singh', 'Rishav Dash', 'Tarun ', 'Muskan Garg', 'Ashad Nasim', 'Aditya ', 'Amersh ', 'Vasanth P', 'Mahak ', 'Ineuron Intelligence ', 'Sandipan Saha', 'Mukesh Rao ', 'Saif Khan', 'Anurag Tiwari', 'Ankitjha ', 'Harikrishnan Shaji', 'Ashish ', 'Prateek _iot ', 'Maneesh ', 'Sudhanshu Kumar', 'Suraj S Bilgi', 'Rohan ', 'Spuri ', 'Nandani Gupta', 'Shivan_S ', 'Nitin M', 'Vivek ', 'Chaitra K Hiremath', 'Sowmiya Sivakumar', 'Shivananda Sonwane', 'Boktiar Ahmed Bappy', 'Ayushi Mishra', 'Maitry ', 'Shiva Srivastava', 'Ayushi Mishra', 'Maitry ', 'Nandani Gupta', 'Shubham Sharma', 'Prerna Singh', 'Swati ', 'Ameya Jain', 'Mahesh Sarade', 'Aravind ', 'Sanjeev Kumar', 'Saikumarreddy N', 'Nishtha Jain', 'Khushboo Priya', 'Harikrishnan Shaji', 'Sowmiya Sivakumar', 'Shivan K', 'Madhulika G', 'Hrisikesh Neogi', 'Mithun S', 'Hitesh Choudhary', 'Sanjeevan ', 'Mukesh ', 'Anirudh ', 'Dibyanshu ', 'Ashish ', 'Uday Mishra', 'Aditya Shinde', 'Aditya_iot ', 'Jayant Kumar', 'Hyder Abbas', 'Saurabh Shukla', 'Prabir Kumar Satapathy', 'Wasim ', 'Deepranjan Gupta', 'Ankit Sharma', 'Samprit ', 'Abhishek ', 'Rishav Dash', 'Tarun ', 'Muskan Garg', 'Bharath ', 'Ashad Nasim', 'Aditya ', 'Amersh ', 'Vasanth P', 'Mahak ', 'Ineuron Intelligence ', 'Sandipan Saha', 'Mukesh Rao ', 'Zeeshan ', 'Manjunatha A', 'Rishav Dash', 'Saif Khan', 'Anurag Tiwari', 'Ankitjha ', 'Ashish ', 'Prateek _iot ', 'Maneesh ', 'Sudhanshu Kumar', 'Suraj S Bilgi', 'Rohan ', 'Spuri ', 'Shivan_S ', 'Nitin M', 'Vivek ', 'Jaydeep Dixit', 'Chaitra K Hiremath', 'Ishawant Kumar', 'Shivananda Sonwane', 'Jawala Prakash', 'Boktiar Ahmed Bappy', 'Shivananda Sonwane', 'Boktiar Ahmed Bappy', 'Prateek _iot ', 'Aditya_iot ', 'Nandani Gupta', 'Prerna Singh', 'Jaydeep Dixit', 'Aravind ', 'Zeeshan ', 'Mahesh Sarade', 'Sanjeev Kumar', 'Chaitra K Hiremath', 'Rishav Dash', 'Wasim ', 'Nishtha Jain', 'Madhulika G', 'Khushboo Priya', 'Sowmiya Sivakumar', 'Prabir Kumar Satapathy', 'Mithun S', 'Shivan K', 'Bharath ', 'Hitesh Choudhary', 'Sanjeevan ', 'Mukesh ', 'Anirudh ', 'Shiva Srivastava', 'Dibyanshu ', 'Ashish ', 'Hrisikesh Neogi', 'Uday Mishra', 'Aditya Shinde', 'Jayant Kumar', 'Swati ', 'Hyder Abbas', 'Saurabh Shukla', 'Deepranjan Gupta', 'Rishav Dash', 'Ankit Sharma', 'Samprit ', 'Abhishek ', 'Tarun ', 'Muskan Garg', 'Ashad Nasim', 'Aditya ', 'Amersh ', 'Vasanth P', 'Shubham Sharma', 'Mahak ', 'Ineuron Intelligence ', 'Sandipan Saha', 'Mukesh Rao ', 'Manjunatha A', 'Ameya Jain', 'Saif Khan', 'Anurag Tiwari', 'Ankitjha ', 'Ashish ', 'Harikrishnan Shaji', 'Maneesh ', 'Sudhanshu Kumar', 'Saikumarreddy N', 'Suraj S Bilgi', 'Rohan ', 'Spuri ', 'Shivan_S ', 'Vivek ', 'Nitin M', 'Ishawant Kumar', 'Ayushi Mishra', 'Maitry ', 'Jawala Prakash', 'Ayushi Mishra', 'Aditya_iot ', 'Prateek _iot ', 'Deepranjan Gupta', 'Ameya Jain', 'Jaydeep Dixit', 'Shubham Sharma', 'Zeeshan ', 'Saikumarreddy N', 'Wasim ', 'Hrisikesh Neogi', 'Harikrishnan Shaji', 'Prabir Kumar Satapathy', 'Rishav Dash', 'Manjunatha A', 'Bharath ', 'Hitesh Choudhary', 'Sanjeevan ', 'Sanjeev Kumar', 'Mukesh ', 'Anirudh ', 'Shiva Srivastava', 'Dibyanshu ', 'Ashish ', 'Nishtha Jain', 'Uday Mishra', 'Aditya Shinde', 'Jayant Kumar', 'Swati ', 'Hyder Abbas', 'Mithun S', 'Saurabh Shukla', 'Rishav Dash', 'Ankit Sharma', 'Samprit ', 'Abhishek ', 'Prerna Singh', 'Khushboo Priya', 'Aravind ', 'Tarun ', 'Muskan Garg', 'Ashad Nasim', 'Aditya ', 'Amersh ', 'Vasanth P', 'Mahak ', 'Ineuron Intelligence ', 'Sandipan Saha', 'Mukesh Rao ', 'Saif Khan', 'Anurag Tiwari', 'Ankitjha ', 'Ashish ', 'Maneesh ', 'Sudhanshu Kumar', 'Suraj S Bilgi', 'Rohan ', 'Spuri ', 'Nandani Gupta', 'Shivan_S ', 'Vivek ', 'Nitin M', 'Shivan K', 'Mahesh Sarade', 'Madhulika G', 'Chaitra K Hiremath', 'Sowmiya Sivakumar', 'Shivananda Sonwane', 'Boktiar Ahmed Bappy', 'Maitry ', 'Jawala Prakash', 'Ishawant Kumar', 'Jawala Prakash', 'Ishawant Kumar', 'Aditya_iot ', 'Prateek _iot ', 'Prerna Singh', 'Hrisikesh Neogi', 'Swati ', 'Ameya Jain', 'Shubham Sharma', 'Mahesh Sarade', 'Zeeshan ', 'Sanjeev Kumar', 'Saikumarreddy N', 'Nandani Gupta', 'Khushboo Priya', 'Madhulika G', 'Wasim ', 'Manjunatha A', 'Mithun S', 'Bharath ', 'Aravind ', 'Harikrishnan Shaji', 'Sowmiya Sivakumar', 'Nishtha Jain', 'Hitesh Choudhary', 'Sanjeevan ', 'Mukesh ', 'Anirudh ', 'Shiva Srivastava', 'Dibyanshu ', 'Ashish ', 'Uday Mishra', 'Aditya Shinde', 'Jayant Kumar', 'Hyder Abbas', 'Saurabh Shukla', 'Prabir Kumar Satapathy', 'Deepranjan Gupta', 'Rishav Dash', 'Ankit Sharma', 'Samprit ', 'Abhishek ', 'Tarun ', 'Muskan Garg', 'Ashad Nasim', 'Aditya ', 'Amersh ', 'Vasanth P', 'Ineuron Intelligence ', 'Mahak ', 'Sandipan Saha', 'Mukesh Rao ', 'Rishav Dash', 'Saif Khan', 'Anurag Tiwari', 'Ankitjha ', 'Ashish ', 'Maneesh ', 'Sudhanshu Kumar', 'Rohan ', 'Spuri ', 'Suraj S Bilgi', 'Shivan_S ', 'Vivek ', 'Nitin M', 'Shivan K', 'Jaydeep Dixit', 'Chaitra K Hiremath', 'Ayushi Mishra', 'Shivananda Sonwane', 'Boktiar Ahmed Bappy', 'Maitry ', 'Maitry ', 'Prateek _iot ', 'Aditya_iot ', 'Saikumarreddy N', 'Prerna Singh', 'Harikrishnan Shaji', 'Nandani Gupta', 'Sanjeev Kumar', 'Mahesh Sarade', 'Jaydeep Dixit', 'Aravind ', 'Shivan K', 'Madhulika G', 'Khushboo Priya', 'Sowmiya Sivakumar', 'Rishav Dash', 'Wasim ', 'Hrisikesh Neogi', 'Prabir Kumar Satapathy', 'Mithun S', 'Hitesh Choudhary', 'Sanjeevan ', 'Mukesh ', 'Anirudh ', 'Shiva Srivastava', 'Ashish ', 'Dibyanshu ', 'Aditya Shinde', 'Nishtha Jain', 'Uday Mishra', 'Jayant Kumar', 'Hyder Abbas', 'Swati ', 'Saurabh Shukla', 'Bharath ', 'Rishav Dash', 'Samprit ', 'Ankit Sharma', 'Abhishek ', 'Muskan Garg', 'Tarun ', 'Ashad Nasim', 'Aditya ', 'Amersh ', 'Vasanth P', 'Shubham Sharma', 'Ineuron Intelligence ', 'Mahak ', 'Sandipan Saha', 'Ameya Jain', 'Zeeshan ', 'Mukesh Rao ', 'Manjunatha A', 'Saif Khan', 'Ankitjha ', 'Anurag Tiwari', 'Ashish ', 'Maneesh ', 'Sudhanshu Kumar', 'Spuri ', 'Rohan ', 'Suraj S Bilgi', 'Shivan_S ', 'Vivek ', 'Nitin M', 'Chaitra K Hiremath', 'Shivananda Sonwane', 'Ishawant Kumar', 'Boktiar Ahmed Bappy', 'Jawala Prakash', 'Ayushi Mishra', 'Deepranjan Gupta', 'Ayushi Mishra', 'Jawala Prakash', 'Deepranjan Gupta', 'Shivananda Sonwane', 'Prateek _iot ', 'Prerna Singh', 'Jaydeep Dixit', 'Shubham Sharma', 'Nandani Gupta', 'Harikrishnan Shaji', 'Aditya_iot ', 'Sanjeev Kumar', 'Zeeshan ', 'Ameya Jain', 'Rishav Dash', 'Wasim ', 'Shivan K', 'Mithun S', 'Bharath ', 'Prabir Kumar Satapathy', 'Hitesh Choudhary', 'Sanjeevan ', 'Mukesh ', 'Anirudh ', 'Shiva Srivastava', 'Ashish ', 'Dibyanshu ', 'Hrisikesh Neogi', 'Aditya Shinde', 'Uday Mishra', 'Jayant Kumar', 'Hyder Abbas', 'Swati ', 'Saurabh Shukla', 'Rishav Dash', 'Samprit ', 'Ankit Sharma', 'Abhishek ', 'Aravind ', 'Maitry ', 'Muskan Garg', 'Tarun ', 'Ashad Nasim', 'Aditya ', 'Amersh ', 'Vasanth P', 'Ineuron Intelligence ', 'Mahak ', 'Sandipan Saha', 'Mukesh Rao ', 'Saif Khan', 'Ankitjha ', 'Anurag Tiwari', 'Ashish ', 'Maneesh ', 'Saikumarreddy N', 'Rohan ', 'Sudhanshu Kumar', 'Spuri ', 'Suraj S Bilgi', 'Shivan_S ', 'Mahesh Sarade', 'Vivek ', 'Nitin M', 'Madhulika G', 'Chaitra K Hiremath', 'Sowmiya Sivakumar', 'Manjunatha A', 'Boktiar Ahmed Bappy', 'Nishtha Jain', 'Ishawant Kumar', 'Khushboo Priya', 'Ishawant Kumar', 'Khushboo Priya', 'Nishtha Jain', 'Boktiar Ahmed Bappy', 'Manjunatha A', 'Hrisikesh Neogi', 'Saikumarreddy N', 'Aravind ', 'Wasim ', 'Shivan K', 'Nandani Gupta', 'Mahesh Sarade', 'Ameya Jain', 'Prabir Kumar Satapathy', 'Swati ', 'Maitry ', 'Rishav Dash', 'Mithun S', 'Hitesh Choudhary', 'Sanjeevan ', 'Mukesh ', 'Anirudh ', 'Shiva Srivastava', 'Ashish ', 'Dibyanshu ', 'Aditya Shinde', 'Uday Mishra', 'Aditya_iot ', 'Jayant Kumar', 'Hyder Abbas', 'Saurabh Shukla', 'Deepranjan Gupta', 'Bharath ', 'Rishav Dash', 'Samprit ', 'Ankit Sharma', 'Abhishek ', 'Prerna Singh', 'Muskan Garg', 'Tarun ', 'Ashad Nasim', 'Aditya ', 'Amersh ', 'Vasanth P', 'Ineuron Intelligence ', 'Shubham Sharma', 'Sandipan Saha', 'Mahak ', 'Zeeshan ', 'Mukesh Rao ', 'Ankitjha ', 'Saif Khan', 'Anurag Tiwari', 'Ashish ', 'Harikrishnan Shaji', 'Prateek _iot ', 'Maneesh ', 'Rohan ', 'Spuri ', 'Suraj S Bilgi', 'Shivan_S ', 'Vivek ', 'Nitin M', 'Jawala Prakash', 'Jaydeep Dixit', 'Chaitra K Hiremath', 'Sowmiya Sivakumar', 'Sudhanshu Kumar', 'Ayushi Mishra', 'Sanjeev Kumar', 'Shivananda Sonwane', 'Madhulika G', 'Madhulika G', 'Sanjeev Kumar', 'Ayushi Mishra', 'Shivananda Sonwane', 'Shivan K', 'Hrisikesh Neogi', 'Deepranjan Gupta', 'Wasim ', 'Nandani Gupta', 'Saikumarreddy N', 'Aravind ', 'Prabir Kumar Satapathy', 'Ameya Jain', 'Shubham Sharma', 'Mahesh Sarade', 'Aditya Shinde', 'Jaydeep Dixit', 'Prerna Singh', 'Jawala Prakash', 'Mithun S', 'Zeeshan ', 'Hitesh Choudhary', 'Sanjeevan ', 'Mukesh ', 'Anirudh ', 'Shiva Srivastava', 'Ashish ', 'Dibyanshu ', 'Uday Mishra', 'Aditya_iot ', 'Jayant Kumar', 'Hyder Abbas', 'Swati ', 'Saurabh Shukla', 'Bharath ', 'Rishav Dash', 'Ankit Sharma', 'Abhishek ', 'Samprit ', 'Maitry ', 'Muskan Garg', 'Tarun ', 'Ashad Nasim', 'Aditya ', 'Amersh ', 'Vasanth P', 'Ineuron Intelligence ', 'Mahak ', 'Mukesh Rao ', 'Rishav Dash', 'Ankitjha ', 'Saif Khan', 'Anurag Tiwari', 'Ashish ', 'Harikrishnan Shaji', 'Prateek _iot ', 'Maneesh ', 'Rohan ', 'Sudhanshu Kumar', 'Suraj S Bilgi', 'Spuri ', 'Shivan_S ', 'Nitin M', 'Vivek ', 'Chaitra K Hiremath', 'Sowmiya Sivakumar', 'Sandipan Saha', 'Manjunatha A', 'Ishawant Kumar', 'Khushboo Priya', 'Boktiar Ahmed Bappy', 'Nishtha Jain', 'Sandipan Saha', 'Khushboo Priya', 'Nishtha Jain', 'Ishawant Kumar', 'Manjunatha A', 'Boktiar Ahmed Bappy', 'Aditya_iot ', 'Ameya Jain', 'Mahesh Sarade', 'Jaydeep Dixit', 'Shivananda Sonwane', 'Shubham Sharma', 'Prerna Singh', 'Zeeshan ', 'Jawala Prakash', 'Aditya Shinde', 'Harikrishnan Shaji', 'Sanjeevan ', 'Mukesh ', 'Anirudh ', 'Shiva Srivastava', 'Ashish ', 'Dibyanshu ', 'Hrisikesh Neogi', 'Uday Mishra', 'Jayant Kumar', 'Hyder Abbas', 'Mithun S', 'Saurabh Shukla', 'Prabir Kumar Satapathy', 'Deepranjan Gupta', 'Bharath ', 'Rishav Dash', 'Ankit Sharma', 'Samprit ', 'Abhishek ', 'Wasim ', 'Aravind ', 'Muskan Garg', 'Tarun ', 'Ashad Nasim', 'Aditya ', 'Amersh ', 'Vasanth P', 'Ineuron Intelligence ', 'Mahak ', 'Mukesh Rao ', 'Saif Khan', 'Ankitjha ', 'Anurag Tiwari', 'Ashish ', 'Prateek _iot ', 'Maneesh ', 'Saikumarreddy N', 'Rohan ', 'Sudhanshu Kumar', 'Spuri ', 'Suraj S Bilgi', 'Nandani Gupta', 'Shivan_S ', 'Shivan K', 'Vivek ', 'Nitin M', 'Ayushi Mishra', 'Chaitra K Hiremath', 'Sowmiya Sivakumar', 'Hitesh Choudhary', 'Rishav Dash', 'Swati ', 'Madhulika G', 'Maitry ', 'Sanjeev Kumar', 'Sanjeev Kumar', 'Prateek _iot ', 'Aditya_iot ', 'Shivan K', 'Saikumarreddy N', 'Deepranjan Gupta', 'Hrisikesh Neogi', 'Bharath ', 'Nandani Gupta', 'Aravind ', 'Wasim ', 'Ayushi Mishra', 'Mithun S', 'Ameya Jain', 'Harikrishnan Shaji', 'Manjunatha A', 'Nishtha Jain', 'Khushboo Priya', 'Ishawant Kumar', 'Sandipan Saha', 'Boktiar Ahmed Bappy', 'Sanjeevan ', 'Hitesh Choudhary', 'Mukesh ', 'Anirudh ', 'Shiva Srivastava', 'Ashish ', 'Dibyanshu ', 'Shivananda Sonwane', 'Uday Mishra', 'Aditya Shinde', 'Jayant Kumar', 'Hyder Abbas', 'Saurabh Shukla', 'Prabir Kumar Satapathy', 'Rishav Dash', 'Ankit Sharma', 'Samprit ', 'Abhishek ', 'Prerna Singh', 'Muskan Garg', 'Tarun ', 'Ashad Nasim', 'Amersh ', 'Vasanth P', 'Shubham Sharma', 'Ineuron Intelligence ', 'Mahak ', 'Zeeshan ', 'Mukesh Rao ', 'Saif Khan', 'Ankitjha ', 'Aditya ', 'Anurag Tiwari', 'Ashish ', 'Maneesh ', 'Sudhanshu Kumar', 'Rohan ', 'Suraj S Bilgi', 'Spuri ', 'Shivan_S ', 'Mahesh Sarade', 'Vivek ', 'Nitin M', 'Jawala Prakash', 'Jaydeep Dixit', 'Chaitra K Hiremath', 'Sowmiya Sivakumar', 'Rishav Dash', 'Madhulika G', 'Maitry ', 'Swati ', 'Rishav Dash', 'Swati ', 'Maitry ', 'Madhulika G', 'Vivek ', 'Aditya_iot ', 'Prateek _iot ', 'Wasim ', 'Ayushi Mishra', 'Bharath ', 'Shivan K', 'Hrisikesh Neogi', 'Saikumarreddy N', 'Aravind ', 'Nandani Gupta', 'Deepranjan Gupta', 'Ameya Jain', 'Mahesh Sarade', 'Harikrishnan Shaji', 'Shubham Sharma', 'Shivananda Sonwane', 'Prerna Singh', 'Aditya Shinde', 'Prabir Kumar Satapathy', 'Jaydeep Dixit', 'Jawala Prakash', 'Zeeshan ', 'Sanjeevan ', 'Sanjeev Kumar', 'Hitesh Choudhary', 'Mukesh ', 'Anirudh ', 'Shiva Srivastava', 'Ashish ', 'Dibyanshu ', 'Uday Mishra', 'Jayant Kumar', 'Hyder Abbas', 'Mithun S', 'Saurabh Shukla', 'Rishav Dash', 'Ankit Sharma', 'Samprit ', 'Abhishek ', 'Muskan Garg', 'Tarun ', 'Ashad Nasim', 'Boktiar Ahmed Bappy', 'Amersh ', 'Vasanth P', 'Ineuron Intelligence ', 'Sandipan Saha', 'Mahak ', 'Mukesh Rao ', 'Saif Khan', 'Ankitjha ', 'Aditya ', 'Anurag Tiwari', 'Ashish ', 'Maneesh ', 'Sudhanshu Kumar', 'Rohan ', 'Suraj S Bilgi', 'Spuri ', 'Shivan_S ', 'Nitin M', 'Chaitra K Hiremath', 'Sowmiya Sivakumar', 'Nishtha Jain', 'Ishawant Kumar', 'Manjunatha A', 'Khushboo Priya', 'Anirudh ', 'Prateek _iot ', 'Aditya_iot ', 'Vivek ', 'Jayant Kumar', 'Rishav Dash', 'Swati ', 'Maitry ', 'Madhulika G', 'Sanjeev Kumar', 'Harikrishnan Shaji', 'Mahesh Sarade', 'Prerna Singh', 'Shivananda Sonwane', 'Aditya Shinde', 'Jaydeep Dixit', 'Jawala Prakash', 'Shubham Sharma', 'Mithun S', 'Prabir Kumar Satapathy', 'Zeeshan ', 'Sanjeevan ', 'Hitesh Choudhary', 'Mukesh ', 'Shiva Srivastava', 'Ashish ', 'Dibyanshu ', 'Hrisikesh Neogi', 'Uday Mishra', 'Hyder Abbas', 'Saurabh Shukla', 'Deepranjan Gupta', 'Bharath ', 'Rishav Dash', 'Ankit Sharma', 'Samprit ', 'Abhishek ', 'Wasim ', 'Aravind ', 'Muskan Garg', 'Tarun ', 'Ashad Nasim', 'Boktiar Ahmed Bappy', 'Amersh ', 'Vasanth P', 'Ineuron Intelligence ', 'Sandipan Saha', 'Mahak ', 'Ameya Jain', 'Mukesh Rao ', 'Saif Khan', 'Ankitjha ', 'Aditya ', 'Anurag Tiwari', 'Maneesh ', 'Ashish ', 'Saikumarreddy N', 'Sudhanshu Kumar', 'Rohan ', 'Suraj S Bilgi', 'Spuri ', 'Nandani Gupta', 'Shivan_S ', 'Shivan K', 'Nitin M', 'Ayushi Mishra', 'Chaitra K Hiremath', 'Sowmiya Sivakumar', 'Manjunatha A', 'Ishawant Kumar', 'Nishtha Jain', 'Khushboo Priya', 'Anirudh ', 'Vivek ', 'Saurabh Shukla', 'Aditya_iot ', 'Prateek _iot ', 'Shivan K', 'Ayushi Mishra', 'Hrisikesh Neogi', 'Bharath ', 'Aravind ', 'Wasim ', 'Deepranjan Gupta', 'Nandani Gupta', 'Harikrishnan Shaji', 'Prabir Kumar Satapathy', 'Mahesh Sarade', 'Mithun S', 'Zeeshan ', 'Prerna Singh', 'Shubham Sharma', 'Jaydeep Dixit', 'Aditya Shinde', 'Shivananda Sonwane', 'Sanjeevan ', 'Sanjeev Kumar', 'Hitesh Choudhary', 'Mukesh ', 'Shiva Srivastava', 'Ashish ', 'Dibyanshu ', 'Uday Mishra', 'Jayant Kumar', 'Hyder Abbas', 'Swati ', 'Rishav Dash', 'Ankit Sharma', 'Samprit ', 'Abhishek ', 'Maitry ', 'Muskan Garg', 'Tarun ', 'Ashad Nasim', 'Boktiar Ahmed Bappy', 'Amersh ', 'Vasanth P', 'Ineuron Intelligence ', 'Sandipan Saha', 'Mahak ', 'Ameya Jain', 'Mukesh Rao ', 'Rishav Dash', 'Saif Khan', 'Ankitjha ', 'Aditya ', 'Anurag Tiwari', 'Maneesh ', 'Ashish ', 'Saikumarreddy N', 'Sudhanshu Kumar', 'Rohan ', 'Suraj S Bilgi', 'Spuri ', 'Shivan_S ', 'Nitin M', 'Madhulika G', 'Chaitra K Hiremath', 'Sowmiya Sivakumar', 'Jawala Prakash', 'Nishtha Jain', 'Khushboo Priya', 'Manjunatha A', 'Ishawant Kumar', 'Ishawant Kumar', 'Nishtha Jain', 'Khushboo Priya', 'Manjunatha A', 'Harikrishnan Shaji', 'Mahesh Sarade', 'Shivan K', 'Hrisikesh Neogi', 'Nandani Gupta', 'Bharath ', 'Deepranjan Gupta', 'Aravind ', 'Anirudh ', 'Rishav Dash', 'Jayant Kumar', 'Swati ', 'Sanjeevan ', 'Mukesh ', 'Hitesh Choudhary', 'Shiva Srivastava', 'Ashish ', 'Dibyanshu ', 'Uday Mishra', 'Aditya_iot ', 'Aditya Shinde', 'Hyder Abbas', 'Mithun S', 'Prabir Kumar Satapathy', 'Saurabh Shukla', 'Rishav Dash', 'Ankit Sharma', 'Samprit ', 'Abhishek ', 'Prerna Singh', 'Wasim ', 'Maitry ', 'Muskan Garg', 'Tarun ', 'Ashad Nasim', 'Boktiar Ahmed Bappy', 'Amersh ', 'Vasanth P', 'Shubham Sharma', 'Ineuron Intelligence ', 'Sandipan Saha', 'Mahak ', 'Ameya Jain', 'Mukesh Rao ', 'Zeeshan ', 'Saif Khan', 'Ankitjha ', 'Aditya ', 'Anurag Tiwari', 'Maneesh ', 'Ashish ', 'Prateek _iot ', 'Saikumarreddy N', 'Sudhanshu Kumar', 'Rohan ', 'Suraj S Bilgi', 'Spuri ', 'Shivan_S ', 'Vivek ', 'Nitin M', 'Jaydeep Dixit', 'Chaitra K Hiremath', 'Jawala Prakash', 'Sowmiya Sivakumar', 'Shivananda Sonwane', 'Madhulika G', 'Sanjeev Kumar', 'Ayushi Mishra', 'Madhulika G', 'Shivananda Sonwane', 'Ayushi Mishra', 'Sanjeev Kumar', 'Nandani Gupta', 'Hrisikesh Neogi', 'Shivan K', 'Bharath ', 'Aravind ', 'Deepranjan Gupta', 'Saurabh Shukla', 'Maneesh ', 'Harikrishnan Shaji', 'Mahesh Sarade', 'Shubham Sharma', 'Jaydeep Dixit', 'Aditya Shinde', 'Prerna Singh', 'Prabir Kumar Satapathy', 'Anirudh ', 'Sanjeevan ', 'Mukesh ', 'Hitesh Choudhary', 'Ashish ', 'Shiva Srivastava', 'Dibyanshu ', 'Uday Mishra', 'Aditya_iot ', 'Jayant Kumar', 'Hyder Abbas', 'Mithun S', 'Swati ', 'Rishav Dash', 'Samprit ', 'Ankit Sharma', 'Abhishek ', 'Wasim ', 'Maitry ', 'Muskan Garg', 'Tarun ', 'Ashad Nasim', 'Amersh ', 'Vasanth P', 'Ineuron Intelligence ', 'Sandipan Saha', 'Mahak ', 'Rishav Dash', 'Ameya Jain', 'Zeeshan ', 'Mukesh Rao ', 'Saif Khan', 'Ankitjha ', 'Aditya ', 'Anurag Tiwari', 'Prateek _iot ', 'Ashish ', 'Sudhanshu Kumar', 'Saikumarreddy N', 'Rohan ', 'Spuri ', 'Suraj S Bilgi', 'Shivan_S ', 'Sowmiya Sivakumar', 'Vivek ', 'Nitin M', 'Chaitra K Hiremath', 'Jawala Prakash', 'Nishtha Jain', 'Ishawant Kumar', 'Khushboo Priya', 'Boktiar Ahmed Bappy', 'Manjunatha A', 'Nishtha Jain', 'Khushboo Priya', 'Manjunatha A', 'Ishawant Kumar', 'Vivek ', 'Boktiar Ahmed Bappy', 'Mahesh Sarade', 'Anirudh ', 'Anurag Tiwari', 'Mukesh Rao ', 'Prabir Kumar Satapathy', 'Aditya_iot ', 'Mithun S', 'Prateek _iot ', 'Harikrishnan Shaji', 'Aravind ', 'Aditya Shinde', 'Shubham Sharma', 'Prerna Singh', 'Shivananda Sonwane', 'Jaydeep Dixit', 'Jawala Prakash', 'Zeeshan ', 'Sanjeevan ', 'Mukesh ', 'Hitesh Choudhary', 'Ashish ', 'Shiva Srivastava', 'Dibyanshu ', 'Hrisikesh Neogi', 'Uday Mishra', 'Hyder Abbas', 'Saurabh Shukla', 'Deepranjan Gupta', 'Bharath ', 'Rishav Dash', 'Samprit ', 'Ankit Sharma', 'Abhishek ', 'Wasim ', 'Muskan Garg', 'Tarun ', 'Ashad Nasim', 'Amersh ', 'Vasanth P', 'Ineuron Intelligence ', 'Sandipan Saha', 'Mahak ', 'Ameya Jain', 'Saif Khan', 'Ankitjha ', 'Aditya ', 'Maneesh ', 'Ashish ', 'Sudhanshu Kumar', 'Saikumarreddy N', 'Rohan ', 'Spuri ', 'Suraj S Bilgi', 'Nandani Gupta', 'Shivan_S ', 'Sowmiya Sivakumar', 'Shivan K', 'Nitin M', 'Ayushi Mishra', 'Chaitra K Hiremath', 'Jayant Kumar', 'Rishav Dash', 'Sanjeev Kumar', 'Maitry ', 'Madhulika G', 'Swati ', 'Sanjeev Kumar', 'Bharath ', 'Nandani Gupta', 'Ayushi Mishra', 'Hrisikesh Neogi', 'Deepranjan Gupta', 'Shivan K', 'Aravind ', 'Anurag Tiwari', 'Harikrishnan Shaji', 'Mithun S', 'Mukesh Rao ', 'Prabir Kumar Satapathy', 'Saurabh Shukla', 'Maneesh ', 'Aditya_iot ', 'Prateek _iot ', 'Zeeshan ', 'Wasim ', 'Nishtha Jain', 'Ishawant Kumar', 'Manjunatha A', 'Boktiar Ahmed Bappy', 'Khushboo Priya', 'Sanjeevan ', 'Mukesh ', 'Hitesh Choudhary', 'Anirudh ', 'Ashish ', 'Shiva Srivastava', 'Dibyanshu ', 'Shivananda Sonwane', 'Uday Mishra', 'Aditya Shinde', 'Hyder Abbas', 'Rishav Dash', 'Samprit ', 'Ankit Sharma', 'Abhishek ', 'Prerna Singh', 'Muskan Garg', 'Tarun ', 'Ashad Nasim', 'Amersh ', 'Vasanth P', 'Ineuron Intelligence ', 'Sandipan Saha', 'Shubham Sharma', 'Mahak ', 'Ameya Jain', 'Saif Khan', 'Ankitjha ', 'Aditya ', 'Ashish ', 'Rohan ', 'Sudhanshu Kumar', 'Saikumarreddy N', 'Spuri ', 'Suraj S Bilgi', 'Shivan_S ', 'Sowmiya Sivakumar', 'Mahesh Sarade', 'Vivek ', 'Nitin M', 'Chaitra K Hiremath', 'Jawala Prakash', 'Jaydeep Dixit', 'Rishav Dash', 'Madhulika G', 'Jayant Kumar', 'Swati ', 'Maitry ', 'Madhulika G', 'Jayant Kumar', 'Rishav Dash', 'Mukesh Rao ', 'Shivan_S ', 'Ayushi Mishra', 'Maitry ', 'Swati ', 'Hrisikesh Neogi', 'Bharath ', 'Deepranjan Gupta', 'Prateek _iot ', 'Dibyanshu ', 'Nandani Gupta', 'Sudhanshu Kumar', 'Shivan K', 'Aditya Shinde', 'Jaydeep Dixit', 'Prerna Singh', 'Shubham Sharma', 'Shivananda Sonwane', 'Anirudh ', 'Jawala Prakash', 'Sanjeev Kumar', 'Sanjeevan ', 'Mukesh ', 'Hitesh Choudhary', 'Mithun S', 'Ashish ', 'Shiva Srivastava', 'Uday Mishra', 'Aditya_iot ', 'Hyder Abbas', 'Prabir Kumar Satapathy', 'Saurabh Shukla', 'Rishav Dash', 'Samprit ', 'Ankit Sharma', 'Abhishek ', 'Wasim ', 'Muskan Garg', 'Tarun ', 'Aravind ', 'Amersh ', 'Vasanth P', 'Ineuron Intelligence ', 'Ishawant Kumar', 'Sandipan Saha', 'Mahak ', 'Ameya Jain', 'Zeeshan ', 'Ankitjha ', 'Aditya ', 'Saif Khan', 'Anurag Tiwari', 'Maneesh ', 'Ashish ', 'Harikrishnan Shaji', 'Rohan ', 'Saikumarreddy N', 'Spuri ', 'Suraj S Bilgi', 'Mahesh Sarade', 'Sowmiya Sivakumar', 'Vivek ', 'Nitin M', 'Chaitra K Hiremath', 'Boktiar Ahmed Bappy', 'Manjunatha A', 'Nishtha Jain', 'Ashad Nasim', 'Khushboo Priya', 'Anirudh ', 'Maneesh ', 'Shivan K', 'Vivek ', 'Rishav Dash', 'Ameya Jain', 'Madhulika G', 'Swati ', 'Jayant Kumar', 'Maitry ', 'Sanjeev Kumar', 'Ashad Nasim', 'Mahak ', 'Samprit ', 'Ankitjha ', 'Prabir Kumar Satapathy', 'Mithun S', 'Shivananda Sonwane', 'Shubham Sharma', 'Aditya Shinde', 'Jaydeep Dixit', 'Prerna Singh', 'Jawala Prakash', 'Sanjeevan ', 'Mukesh ', 'Hitesh Choudhary', 'Ashish ', 'Shiva Srivastava', 'Dibyanshu ', 'Hrisikesh Neogi', 'Uday Mishra', 'Aditya_iot ', 'Hyder Abbas', 'Saurabh Shukla', 'Bharath ', 'Deepranjan Gupta', 'Rishav Dash', 'Ankit Sharma', 'Abhishek ', 'Wasim ', 'Muskan Garg', 'Aravind ', 'Tarun ', 'Amersh ', 'Vasanth P', 'Ineuron Intelligence ', 'Ishawant Kumar', 'Sandipan Saha', 'Zeeshan ', 'Mukesh Rao ', 'Aditya ', 'Saif Khan', 'Anurag Tiwari', 'Ashish ', 'Harikrishnan Shaji', 'Prateek _iot ', 'Rohan ', 'Sudhanshu Kumar', 'Saikumarreddy N', 'Suraj S Bilgi', 'Spuri ', 'Nandani Gupta', 'Shivan_S ', 'Mahesh Sarade', 'Sowmiya Sivakumar', 'Nitin M', 'Ayushi Mishra', 'Chaitra K Hiremath', 'Khushboo Priya', 'Boktiar Ahmed Bappy', 'Nishtha Jain', 'Manjunatha A', 'Nishtha Jain', 'Khushboo Priya', 'Ayushi Mishra', 'Bharath ', 'Nandani Gupta', 'Shivan K', 'Deepranjan Gupta', 'Shivananda Sonwane', 'Jaydeep Dixit', 'Prerna Singh', 'Aditya Shinde', 'Shubham Sharma', 'Hrisikesh Neogi', 'Sanjeev Kumar', 'Sanjeevan ', 'Mukesh ', 'Hitesh Choudhary', 'Mithun S', 'Anirudh ', 'Ashish ', 'Shiva Srivastava', 'Dibyanshu ', 'Uday Mishra', 'Aditya_iot ', 'Jayant Kumar', 'Hyder Abbas', 'Swati ', 'Prabir Kumar Satapathy', 'Saurabh Shukla', 'Abhishek ', 'Rishav Dash', 'Ankit Sharma', 'Samprit ', 'Wasim ', 'Maitry ', 'Muskan Garg', 'Aravind ', 'Tarun ', 'Ashad Nasim', 'Amersh ', 'Vasanth P', 'Ineuron Intelligence ', 'Ishawant Kumar', 'Sandipan Saha', 'Mahak ', 'Rishav Dash', 'Ameya Jain', 'Zeeshan ', 'Mukesh Rao ', 'Aditya ', 'Ankitjha ', 'Saif Khan', 'Anurag Tiwari', 'Maneesh ', 'Ashish ', 'Harikrishnan Shaji', 'Prateek _iot ', 'Rohan ', 'Sudhanshu Kumar', 'Saikumarreddy N', 'Spuri ', 'Suraj S Bilgi', 'Shivan_S ', 'Mahesh Sarade', 'Sowmiya Sivakumar', 'Vivek ', 'Nitin M', 'Madhulika G', 'Chaitra K Hiremath', 'Jawala Prakash', 'Boktiar Ahmed Bappy', 'Manjunatha A', 'Jawala Prakash', 'Boktiar Ahmed Bappy', 'Manjunatha A', 'Aditya Shinde', 'Bharath ', 'Deepranjan Gupta', 'Nandani Gupta', 'Shivan K', 'Maitry ', 'Jayant Kumar', 'Rishav Dash', 'Swati ', 'Sanjeevan ', 'Mukesh ', 'Hitesh Choudhary', 'Mithun S', 'Anirudh ', 'Shiva Srivastava', 'Ashish ', 'Dibyanshu ', 'Hrisikesh Neogi', 'Uday Mishra', 'Aditya_iot ', 'Nishtha Jain', 'Hyder Abbas', 'Prabir Kumar Satapathy', 'Saurabh Shukla', 'Abhishek ', 'Rishav Dash', 'Ankit Sharma', 'Samprit ', 'Wasim ', 'Prerna Singh', 'Muskan Garg', 'Aravind ', 'Tarun ', 'Ashad Nasim', 'Khushboo Priya', 'Vasanth P', 'Amersh ', 'Ineuron Intelligence ', 'Ishawant Kumar', 'Sandipan Saha', 'Shubham Sharma', 'Mahak ', 'Ameya Jain', 'Zeeshan ', 'Mukesh Rao ', 'Aditya ', 'Ankitjha ', 'Saif Khan', 'Anurag Tiwari', 'Maneesh ', 'Harikrishnan Shaji', 'Ashish ', 'Prateek _iot ', 'Rohan ', 'Saikumarreddy N', 'Sudhanshu Kumar', 'Spuri ', 'Suraj S Bilgi', 'Shivan_S ', 'Mahesh Sarade', 'Sowmiya Sivakumar', 'Vivek ', 'Nitin M', 'Jaydeep Dixit', 'Chaitra K Hiremath', 'Sanjeev Kumar', 'Shivananda Sonwane', 'Madhulika G', 'Ayushi Mishra', 'Madhulika G', 'Shivananda Sonwane', 'Sanjeev Kumar', 'Ayushi Mishra', 'Nandani Gupta', 'Aditya Shinde', 'Bharath ', 'Deepranjan Gupta', 'Hrisikesh Neogi', 'Prerna Singh', 'Shubham Sharma', 'Jaydeep Dixit', 'Khushboo Priya', 'Sanjeevan ', 'Mukesh ', 'Hitesh Choudhary', 'Mithun S', 'Anirudh ', 'Shiva Srivastava', 'Ashish ', 'Dibyanshu ', 'Uday Mishra', 'Aditya_iot ', 'Jayant Kumar', 'Nishtha Jain', 'Hyder Abbas', 'Swati ', 'Prabir Kumar Satapathy', 'Saurabh Shukla', 'Abhishek ', 'Rishav Dash', 'Ankit Sharma', 'Samprit ', 'Wasim ', 'Maitry ', 'Muskan Garg', 'Aravind ', 'Tarun ', 'Ashad Nasim', 'Vasanth P', 'Amersh ', 'Ineuron Intelligence ', 'Ishawant Kumar', 'Sandipan Saha', 'Mahak ', 'Rishav Dash', 'Ameya Jain', 'Zeeshan ', 'Mukesh Rao ', 'Aditya ', 'Ankitjha ', 'Saif Khan', 'Anurag Tiwari', 'Maneesh ', 'Harikrishnan Shaji', 'Ashish ', 'Prateek _iot ', 'Rohan ', 'Saikumarreddy N', 'Sudhanshu Kumar', 'Spuri ', 'Suraj S Bilgi', 'Shivan_S ', 'Mahesh Sarade', 'Sowmiya Sivakumar', 'Shivan K', 'Nitin M', 'Vivek ', 'Chaitra K Hiremath', 'Boktiar Ahmed Bappy', 'Jawala Prakash', 'Manjunatha A', 'Manjunatha A', 'Jawala Prakash', 'Saurabh Shukla', 'Jayant Kumar', 'Boktiar Ahmed Bappy', 'Rishav Dash', 'Maitry ', 'Madhulika G', 'Swati ', 'Sanjeev Kumar', 'Shivan K', 'Prerna Singh', 'Shubham Sharma', 'Jaydeep Dixit', 'Shivananda Sonwane', 'Khushboo Priya', 'Hrisikesh Neogi', 'Tarun ', 'Sanjeevan ', 'Mukesh ', 'Hitesh Choudhary', 'Mithun S', 'Anirudh ', 'Shiva Srivastava', 'Ashish ', 'Dibyanshu ', 'Uday Mishra', 'Aditya_iot ', 'Nishtha Jain', 'Aditya Shinde', 'Hyder Abbas', 'Prabir Kumar Satapathy', 'Bharath ', 'Deepranjan Gupta', 'Abhishek ', 'Rishav Dash', 'Ankit Sharma', 'Samprit ', 'Wasim ', 'Muskan Garg', 'Aravind ', 'Ashad Nasim', 'Vasanth P', 'Amersh ', 'Ineuron Intelligence ', 'Ishawant Kumar', 'Sandipan Saha', 'Mahak ', 'Ameya Jain', 'Mukesh Rao ', 'Zeeshan ', 'Aditya ', 'Ankitjha ', 'Saif Khan', 'Anurag Tiwari', 'Maneesh ', 'Harikrishnan Shaji', 'Ashish ', 'Prateek _iot ', 'Rohan ', 'Saikumarreddy N', 'Sudhanshu Kumar', 'Spuri ', 'Suraj S Bilgi', 'Nandani Gupta', 'Shivan_S ', 'Mahesh Sarade', 'Sowmiya Sivakumar', 'Nitin M', 'Vivek ', 'Ayushi Mishra', 'Chaitra K Hiremath']\n"
     ]
    }
   ],
   "source": [
    "# This is my code to get all agents name\n",
    "\n",
    "agentNames = []\n",
    "for i in df['Agent Name']:\n",
    "    agentNames.append(i)\n",
    "    \n",
    "print('The list of agent names :', agentNames)"
   ]
  },
  {
   "cell_type": "code",
   "execution_count": 39,
   "id": "55f73b9e",
   "metadata": {},
   "outputs": [],
   "source": [
    "# This is the code to get percntage of chat on which they got feedback\n",
    "\n",
    "df['% of feedback on chat'] = df['Total Feedback']*100 / df['Total Chats']"
   ]
  },
  {
   "cell_type": "code",
   "execution_count": 40,
   "id": "a40f1e8b",
   "metadata": {},
   "outputs": [
    {
     "data": {
      "text/html": [
       "<div>\n",
       "<style scoped>\n",
       "    .dataframe tbody tr th:only-of-type {\n",
       "        vertical-align: middle;\n",
       "    }\n",
       "\n",
       "    .dataframe tbody tr th {\n",
       "        vertical-align: top;\n",
       "    }\n",
       "\n",
       "    .dataframe thead th {\n",
       "        text-align: right;\n",
       "    }\n",
       "</style>\n",
       "<table border=\"1\" class=\"dataframe\">\n",
       "  <thead>\n",
       "    <tr style=\"text-align: right;\">\n",
       "      <th></th>\n",
       "      <th>SL No</th>\n",
       "      <th>Date</th>\n",
       "      <th>Agent Name</th>\n",
       "      <th>Total Chats</th>\n",
       "      <th>Average Response Time</th>\n",
       "      <th>Average Resolution Time</th>\n",
       "      <th>Average Rating</th>\n",
       "      <th>Total Feedback</th>\n",
       "      <th>work_year</th>\n",
       "      <th>work_month</th>\n",
       "      <th>work_week</th>\n",
       "      <th>work_day</th>\n",
       "      <th>% of feedback on chat</th>\n",
       "    </tr>\n",
       "  </thead>\n",
       "  <tbody>\n",
       "    <tr>\n",
       "      <th>0</th>\n",
       "      <td>1</td>\n",
       "      <td>2022-07-30</td>\n",
       "      <td>Prerna Singh</td>\n",
       "      <td>11</td>\n",
       "      <td>2022-08-08 00:00:38</td>\n",
       "      <td>2022-08-08 00:04:20</td>\n",
       "      <td>4.11</td>\n",
       "      <td>9</td>\n",
       "      <td>2022</td>\n",
       "      <td>7</td>\n",
       "      <td>30</td>\n",
       "      <td>30</td>\n",
       "      <td>81.818182</td>\n",
       "    </tr>\n",
       "    <tr>\n",
       "      <th>1</th>\n",
       "      <td>2</td>\n",
       "      <td>2022-07-30</td>\n",
       "      <td>Nandani Gupta</td>\n",
       "      <td>11</td>\n",
       "      <td>2022-08-08 00:01:15</td>\n",
       "      <td>2022-08-08 00:28:25</td>\n",
       "      <td>3.14</td>\n",
       "      <td>7</td>\n",
       "      <td>2022</td>\n",
       "      <td>7</td>\n",
       "      <td>30</td>\n",
       "      <td>30</td>\n",
       "      <td>63.636364</td>\n",
       "    </tr>\n",
       "    <tr>\n",
       "      <th>2</th>\n",
       "      <td>3</td>\n",
       "      <td>2022-07-30</td>\n",
       "      <td>Ameya Jain</td>\n",
       "      <td>14</td>\n",
       "      <td>2022-08-08 00:00:30</td>\n",
       "      <td>2022-08-08 00:11:36</td>\n",
       "      <td>4.55</td>\n",
       "      <td>11</td>\n",
       "      <td>2022</td>\n",
       "      <td>7</td>\n",
       "      <td>30</td>\n",
       "      <td>30</td>\n",
       "      <td>78.571429</td>\n",
       "    </tr>\n",
       "    <tr>\n",
       "      <th>3</th>\n",
       "      <td>4</td>\n",
       "      <td>2022-07-30</td>\n",
       "      <td>Mahesh Sarade</td>\n",
       "      <td>14</td>\n",
       "      <td>2022-08-08 00:01:04</td>\n",
       "      <td>2022-08-08 00:15:46</td>\n",
       "      <td>4.71</td>\n",
       "      <td>7</td>\n",
       "      <td>2022</td>\n",
       "      <td>7</td>\n",
       "      <td>30</td>\n",
       "      <td>30</td>\n",
       "      <td>50.000000</td>\n",
       "    </tr>\n",
       "    <tr>\n",
       "      <th>4</th>\n",
       "      <td>5</td>\n",
       "      <td>2022-07-30</td>\n",
       "      <td>Swati</td>\n",
       "      <td>14</td>\n",
       "      <td>2022-08-08 00:01:11</td>\n",
       "      <td>2022-08-08 00:16:33</td>\n",
       "      <td>3.67</td>\n",
       "      <td>6</td>\n",
       "      <td>2022</td>\n",
       "      <td>7</td>\n",
       "      <td>30</td>\n",
       "      <td>30</td>\n",
       "      <td>42.857143</td>\n",
       "    </tr>\n",
       "  </tbody>\n",
       "</table>\n",
       "</div>"
      ],
      "text/plain": [
       "   SL No       Date     Agent Name  Total Chats Average Response Time  \\\n",
       "0      1 2022-07-30   Prerna Singh           11   2022-08-08 00:00:38   \n",
       "1      2 2022-07-30  Nandani Gupta           11   2022-08-08 00:01:15   \n",
       "2      3 2022-07-30     Ameya Jain           14   2022-08-08 00:00:30   \n",
       "3      4 2022-07-30  Mahesh Sarade           14   2022-08-08 00:01:04   \n",
       "4      5 2022-07-30         Swati            14   2022-08-08 00:01:11   \n",
       "\n",
       "  Average Resolution Time  Average Rating  Total Feedback  work_year  \\\n",
       "0     2022-08-08 00:04:20            4.11               9       2022   \n",
       "1     2022-08-08 00:28:25            3.14               7       2022   \n",
       "2     2022-08-08 00:11:36            4.55              11       2022   \n",
       "3     2022-08-08 00:15:46            4.71               7       2022   \n",
       "4     2022-08-08 00:16:33            3.67               6       2022   \n",
       "\n",
       "   work_month  work_week  work_day  % of feedback on chat  \n",
       "0           7         30        30              81.818182  \n",
       "1           7         30        30              63.636364  \n",
       "2           7         30        30              78.571429  \n",
       "3           7         30        30              50.000000  \n",
       "4           7         30        30              42.857143  "
      ]
     },
     "execution_count": 40,
     "metadata": {},
     "output_type": "execute_result"
    }
   ],
   "source": [
    "df.head()"
   ]
  },
  {
   "cell_type": "code",
   "execution_count": 42,
   "id": "aae99bff",
   "metadata": {},
   "outputs": [
    {
     "ename": "TypeError",
     "evalue": "cannot add DatetimeArray and DatetimeArray",
     "output_type": "error",
     "traceback": [
      "\u001b[1;31m---------------------------------------------------------------------------\u001b[0m",
      "\u001b[1;31mTypeError\u001b[0m                                 Traceback (most recent call last)",
      "Input \u001b[1;32mIn [42]\u001b[0m, in \u001b[0;36m<cell line: 1>\u001b[1;34m()\u001b[0m\n\u001b[1;32m----> 1\u001b[0m df[\u001b[38;5;124m'\u001b[39m\u001b[38;5;124mcontribution_hour\u001b[39m\u001b[38;5;124m'\u001b[39m] \u001b[38;5;241m=\u001b[39m (\u001b[43mdf\u001b[49m\u001b[43m[\u001b[49m\u001b[38;5;124;43m'\u001b[39;49m\u001b[38;5;124;43mAverage Response Time\u001b[39;49m\u001b[38;5;124;43m'\u001b[39;49m\u001b[43m]\u001b[49m\u001b[43m \u001b[49m\u001b[38;5;241;43m+\u001b[39;49m\u001b[43m \u001b[49m\u001b[43mdf\u001b[49m\u001b[43m[\u001b[49m\u001b[38;5;124;43m'\u001b[39;49m\u001b[38;5;124;43mAverage Resolution Time\u001b[39;49m\u001b[38;5;124;43m'\u001b[39;49m\u001b[43m]\u001b[49m)\n\u001b[0;32m      2\u001b[0m df\u001b[38;5;241m.\u001b[39mgroupby([\u001b[38;5;124m'\u001b[39m\u001b[38;5;124mAgent Name\u001b[39m\u001b[38;5;124m'\u001b[39m, \u001b[38;5;124m'\u001b[39m\u001b[38;5;124mwork_week\u001b[39m\u001b[38;5;124m'\u001b[39m])[\u001b[38;5;124m'\u001b[39m\u001b[38;5;124mcontribution_hour\u001b[39m\u001b[38;5;124m'\u001b[39m]\u001b[38;5;241m.\u001b[39msum()\n",
      "File \u001b[1;32m~\\anaconda3\\lib\\site-packages\\pandas\\core\\ops\\common.py:70\u001b[0m, in \u001b[0;36m_unpack_zerodim_and_defer.<locals>.new_method\u001b[1;34m(self, other)\u001b[0m\n\u001b[0;32m     66\u001b[0m             \u001b[38;5;28;01mreturn\u001b[39;00m \u001b[38;5;28mNotImplemented\u001b[39m\n\u001b[0;32m     68\u001b[0m other \u001b[38;5;241m=\u001b[39m item_from_zerodim(other)\n\u001b[1;32m---> 70\u001b[0m \u001b[38;5;28;01mreturn\u001b[39;00m \u001b[43mmethod\u001b[49m\u001b[43m(\u001b[49m\u001b[38;5;28;43mself\u001b[39;49m\u001b[43m,\u001b[49m\u001b[43m \u001b[49m\u001b[43mother\u001b[49m\u001b[43m)\u001b[49m\n",
      "File \u001b[1;32m~\\anaconda3\\lib\\site-packages\\pandas\\core\\arraylike.py:100\u001b[0m, in \u001b[0;36mOpsMixin.__add__\u001b[1;34m(self, other)\u001b[0m\n\u001b[0;32m     98\u001b[0m \u001b[38;5;129m@unpack_zerodim_and_defer\u001b[39m(\u001b[38;5;124m\"\u001b[39m\u001b[38;5;124m__add__\u001b[39m\u001b[38;5;124m\"\u001b[39m)\n\u001b[0;32m     99\u001b[0m \u001b[38;5;28;01mdef\u001b[39;00m \u001b[38;5;21m__add__\u001b[39m(\u001b[38;5;28mself\u001b[39m, other):\n\u001b[1;32m--> 100\u001b[0m     \u001b[38;5;28;01mreturn\u001b[39;00m \u001b[38;5;28;43mself\u001b[39;49m\u001b[38;5;241;43m.\u001b[39;49m\u001b[43m_arith_method\u001b[49m\u001b[43m(\u001b[49m\u001b[43mother\u001b[49m\u001b[43m,\u001b[49m\u001b[43m \u001b[49m\u001b[43moperator\u001b[49m\u001b[38;5;241;43m.\u001b[39;49m\u001b[43madd\u001b[49m\u001b[43m)\u001b[49m\n",
      "File \u001b[1;32m~\\anaconda3\\lib\\site-packages\\pandas\\core\\series.py:5639\u001b[0m, in \u001b[0;36mSeries._arith_method\u001b[1;34m(self, other, op)\u001b[0m\n\u001b[0;32m   5637\u001b[0m \u001b[38;5;28;01mdef\u001b[39;00m \u001b[38;5;21m_arith_method\u001b[39m(\u001b[38;5;28mself\u001b[39m, other, op):\n\u001b[0;32m   5638\u001b[0m     \u001b[38;5;28mself\u001b[39m, other \u001b[38;5;241m=\u001b[39m ops\u001b[38;5;241m.\u001b[39malign_method_SERIES(\u001b[38;5;28mself\u001b[39m, other)\n\u001b[1;32m-> 5639\u001b[0m     \u001b[38;5;28;01mreturn\u001b[39;00m \u001b[43mbase\u001b[49m\u001b[38;5;241;43m.\u001b[39;49m\u001b[43mIndexOpsMixin\u001b[49m\u001b[38;5;241;43m.\u001b[39;49m\u001b[43m_arith_method\u001b[49m\u001b[43m(\u001b[49m\u001b[38;5;28;43mself\u001b[39;49m\u001b[43m,\u001b[49m\u001b[43m \u001b[49m\u001b[43mother\u001b[49m\u001b[43m,\u001b[49m\u001b[43m \u001b[49m\u001b[43mop\u001b[49m\u001b[43m)\u001b[49m\n",
      "File \u001b[1;32m~\\anaconda3\\lib\\site-packages\\pandas\\core\\base.py:1295\u001b[0m, in \u001b[0;36mIndexOpsMixin._arith_method\u001b[1;34m(self, other, op)\u001b[0m\n\u001b[0;32m   1292\u001b[0m rvalues \u001b[38;5;241m=\u001b[39m ensure_wrapped_if_datetimelike(rvalues)\n\u001b[0;32m   1294\u001b[0m \u001b[38;5;28;01mwith\u001b[39;00m np\u001b[38;5;241m.\u001b[39merrstate(\u001b[38;5;28mall\u001b[39m\u001b[38;5;241m=\u001b[39m\u001b[38;5;124m\"\u001b[39m\u001b[38;5;124mignore\u001b[39m\u001b[38;5;124m\"\u001b[39m):\n\u001b[1;32m-> 1295\u001b[0m     result \u001b[38;5;241m=\u001b[39m \u001b[43mops\u001b[49m\u001b[38;5;241;43m.\u001b[39;49m\u001b[43marithmetic_op\u001b[49m\u001b[43m(\u001b[49m\u001b[43mlvalues\u001b[49m\u001b[43m,\u001b[49m\u001b[43m \u001b[49m\u001b[43mrvalues\u001b[49m\u001b[43m,\u001b[49m\u001b[43m \u001b[49m\u001b[43mop\u001b[49m\u001b[43m)\u001b[49m\n\u001b[0;32m   1297\u001b[0m \u001b[38;5;28;01mreturn\u001b[39;00m \u001b[38;5;28mself\u001b[39m\u001b[38;5;241m.\u001b[39m_construct_result(result, name\u001b[38;5;241m=\u001b[39mres_name)\n",
      "File \u001b[1;32m~\\anaconda3\\lib\\site-packages\\pandas\\core\\ops\\array_ops.py:216\u001b[0m, in \u001b[0;36marithmetic_op\u001b[1;34m(left, right, op)\u001b[0m\n\u001b[0;32m    203\u001b[0m \u001b[38;5;66;03m# NB: We assume that extract_array and ensure_wrapped_if_datetimelike\u001b[39;00m\n\u001b[0;32m    204\u001b[0m \u001b[38;5;66;03m#  have already been called on `left` and `right`,\u001b[39;00m\n\u001b[0;32m    205\u001b[0m \u001b[38;5;66;03m#  and `maybe_prepare_scalar_for_op` has already been called on `right`\u001b[39;00m\n\u001b[0;32m    206\u001b[0m \u001b[38;5;66;03m# We need to special-case datetime64/timedelta64 dtypes (e.g. because numpy\u001b[39;00m\n\u001b[0;32m    207\u001b[0m \u001b[38;5;66;03m# casts integer dtypes to timedelta64 when operating with timedelta64 - GH#22390)\u001b[39;00m\n\u001b[0;32m    209\u001b[0m \u001b[38;5;28;01mif\u001b[39;00m (\n\u001b[0;32m    210\u001b[0m     should_extension_dispatch(left, right)\n\u001b[0;32m    211\u001b[0m     \u001b[38;5;129;01mor\u001b[39;00m \u001b[38;5;28misinstance\u001b[39m(right, (Timedelta, BaseOffset, Timestamp))\n\u001b[1;32m   (...)\u001b[0m\n\u001b[0;32m    214\u001b[0m     \u001b[38;5;66;03m# Timedelta/Timestamp and other custom scalars are included in the check\u001b[39;00m\n\u001b[0;32m    215\u001b[0m     \u001b[38;5;66;03m# because numexpr will fail on it, see GH#31457\u001b[39;00m\n\u001b[1;32m--> 216\u001b[0m     res_values \u001b[38;5;241m=\u001b[39m \u001b[43mop\u001b[49m\u001b[43m(\u001b[49m\u001b[43mleft\u001b[49m\u001b[43m,\u001b[49m\u001b[43m \u001b[49m\u001b[43mright\u001b[49m\u001b[43m)\u001b[49m\n\u001b[0;32m    217\u001b[0m \u001b[38;5;28;01melse\u001b[39;00m:\n\u001b[0;32m    218\u001b[0m     \u001b[38;5;66;03m# TODO we should handle EAs consistently and move this check before the if/else\u001b[39;00m\n\u001b[0;32m    219\u001b[0m     \u001b[38;5;66;03m# (https://github.com/pandas-dev/pandas/issues/41165)\u001b[39;00m\n\u001b[0;32m    220\u001b[0m     _bool_arith_check(op, left, right)\n",
      "File \u001b[1;32m~\\anaconda3\\lib\\site-packages\\pandas\\core\\ops\\common.py:70\u001b[0m, in \u001b[0;36m_unpack_zerodim_and_defer.<locals>.new_method\u001b[1;34m(self, other)\u001b[0m\n\u001b[0;32m     66\u001b[0m             \u001b[38;5;28;01mreturn\u001b[39;00m \u001b[38;5;28mNotImplemented\u001b[39m\n\u001b[0;32m     68\u001b[0m other \u001b[38;5;241m=\u001b[39m item_from_zerodim(other)\n\u001b[1;32m---> 70\u001b[0m \u001b[38;5;28;01mreturn\u001b[39;00m \u001b[43mmethod\u001b[49m\u001b[43m(\u001b[49m\u001b[38;5;28;43mself\u001b[39;49m\u001b[43m,\u001b[49m\u001b[43m \u001b[49m\u001b[43mother\u001b[49m\u001b[43m)\u001b[49m\n",
      "File \u001b[1;32m~\\anaconda3\\lib\\site-packages\\pandas\\core\\arrays\\datetimelike.py:1283\u001b[0m, in \u001b[0;36mDatetimeLikeArrayMixin.__add__\u001b[1;34m(self, other)\u001b[0m\n\u001b[0;32m   1280\u001b[0m     result \u001b[38;5;241m=\u001b[39m \u001b[38;5;28mself\u001b[39m\u001b[38;5;241m.\u001b[39m_addsub_object_array(other, operator\u001b[38;5;241m.\u001b[39madd)\n\u001b[0;32m   1281\u001b[0m \u001b[38;5;28;01melif\u001b[39;00m is_datetime64_dtype(other_dtype) \u001b[38;5;129;01mor\u001b[39;00m is_datetime64tz_dtype(other_dtype):\n\u001b[0;32m   1282\u001b[0m     \u001b[38;5;66;03m# DatetimeIndex, ndarray[datetime64]\u001b[39;00m\n\u001b[1;32m-> 1283\u001b[0m     \u001b[38;5;28;01mreturn\u001b[39;00m \u001b[38;5;28;43mself\u001b[39;49m\u001b[38;5;241;43m.\u001b[39;49m\u001b[43m_add_datetime_arraylike\u001b[49m\u001b[43m(\u001b[49m\u001b[43mother\u001b[49m\u001b[43m)\u001b[49m\n\u001b[0;32m   1284\u001b[0m \u001b[38;5;28;01melif\u001b[39;00m is_integer_dtype(other_dtype):\n\u001b[0;32m   1285\u001b[0m     \u001b[38;5;28;01mif\u001b[39;00m \u001b[38;5;129;01mnot\u001b[39;00m is_period_dtype(\u001b[38;5;28mself\u001b[39m\u001b[38;5;241m.\u001b[39mdtype):\n",
      "File \u001b[1;32m~\\anaconda3\\lib\\site-packages\\pandas\\core\\arrays\\datetimelike.py:1052\u001b[0m, in \u001b[0;36mDatetimeLikeArrayMixin._add_datetimelike_scalar\u001b[1;34m(self, other)\u001b[0m\n\u001b[0;32m   1050\u001b[0m \u001b[38;5;28;01mdef\u001b[39;00m \u001b[38;5;21m_add_datetimelike_scalar\u001b[39m(\u001b[38;5;28mself\u001b[39m, other):\n\u001b[0;32m   1051\u001b[0m     \u001b[38;5;66;03m# Overridden by TimedeltaArray\u001b[39;00m\n\u001b[1;32m-> 1052\u001b[0m     \u001b[38;5;28;01mraise\u001b[39;00m \u001b[38;5;167;01mTypeError\u001b[39;00m(\u001b[38;5;124mf\u001b[39m\u001b[38;5;124m\"\u001b[39m\u001b[38;5;124mcannot add \u001b[39m\u001b[38;5;132;01m{\u001b[39;00m\u001b[38;5;28mtype\u001b[39m(\u001b[38;5;28mself\u001b[39m)\u001b[38;5;241m.\u001b[39m\u001b[38;5;18m__name__\u001b[39m\u001b[38;5;132;01m}\u001b[39;00m\u001b[38;5;124m and \u001b[39m\u001b[38;5;132;01m{\u001b[39;00m\u001b[38;5;28mtype\u001b[39m(other)\u001b[38;5;241m.\u001b[39m\u001b[38;5;18m__name__\u001b[39m\u001b[38;5;132;01m}\u001b[39;00m\u001b[38;5;124m\"\u001b[39m)\n",
      "\u001b[1;31mTypeError\u001b[0m: cannot add DatetimeArray and DatetimeArray"
     ]
    }
   ],
   "source": [
    "# This is the code to get contribution hour for each agent weekly basis\n",
    "\n",
    "df['contribution_hour'] = (df['Average Response Time'] + df['Average Resolution Time'])\n",
    "df.groupby(['Agent Name', 'work_week'])['contribution_hour'].sum()"
   ]
  },
  {
   "cell_type": "code",
   "execution_count": 43,
   "id": "843329d9",
   "metadata": {},
   "outputs": [
    {
     "ename": "KeyError",
     "evalue": "'Column not found: contribution_hour'",
     "output_type": "error",
     "traceback": [
      "\u001b[1;31m---------------------------------------------------------------------------\u001b[0m",
      "\u001b[1;31mKeyError\u001b[0m                                  Traceback (most recent call last)",
      "Input \u001b[1;32mIn [43]\u001b[0m, in \u001b[0;36m<cell line: 3>\u001b[1;34m()\u001b[0m\n\u001b[0;32m      1\u001b[0m \u001b[38;5;66;03m# This is the code to get percntage of active hour for a month\u001b[39;00m\n\u001b[1;32m----> 3\u001b[0m df[\u001b[38;5;124m'\u001b[39m\u001b[38;5;124mmonthly_active_percantage\u001b[39m\u001b[38;5;124m'\u001b[39m] \u001b[38;5;241m=\u001b[39m \u001b[43mdf\u001b[49m\u001b[38;5;241;43m.\u001b[39;49m\u001b[43mgroupby\u001b[49m\u001b[43m(\u001b[49m\u001b[38;5;124;43m'\u001b[39;49m\u001b[38;5;124;43mwork_month\u001b[39;49m\u001b[38;5;124;43m'\u001b[39;49m\u001b[43m)\u001b[49m\u001b[43m[\u001b[49m\u001b[38;5;124;43m'\u001b[39;49m\u001b[38;5;124;43mcontribution_hour\u001b[39;49m\u001b[38;5;124;43m'\u001b[39;49m\u001b[43m]\u001b[49m\u001b[38;5;241m.\u001b[39msum()\u001b[38;5;241m*\u001b[39m\u001b[38;5;241m100\u001b[39m \u001b[38;5;241m/\u001b[39m \u001b[38;5;241m22\u001b[39m\n\u001b[0;32m      4\u001b[0m df\u001b[38;5;241m.\u001b[39mgroupby([\u001b[38;5;124m'\u001b[39m\u001b[38;5;124mAgent Name\u001b[39m\u001b[38;5;124m'\u001b[39m])[\u001b[38;5;124m'\u001b[39m\u001b[38;5;124mmonthly_active_percantage\u001b[39m\u001b[38;5;124m'\u001b[39m]\n",
      "File \u001b[1;32m~\\anaconda3\\lib\\site-packages\\pandas\\core\\groupby\\generic.py:1338\u001b[0m, in \u001b[0;36mDataFrameGroupBy.__getitem__\u001b[1;34m(self, key)\u001b[0m\n\u001b[0;32m   1329\u001b[0m \u001b[38;5;28;01mif\u001b[39;00m \u001b[38;5;28misinstance\u001b[39m(key, \u001b[38;5;28mtuple\u001b[39m) \u001b[38;5;129;01mand\u001b[39;00m \u001b[38;5;28mlen\u001b[39m(key) \u001b[38;5;241m>\u001b[39m \u001b[38;5;241m1\u001b[39m:\n\u001b[0;32m   1330\u001b[0m     \u001b[38;5;66;03m# if len == 1, then it becomes a SeriesGroupBy and this is actually\u001b[39;00m\n\u001b[0;32m   1331\u001b[0m     \u001b[38;5;66;03m# valid syntax, so don't raise warning\u001b[39;00m\n\u001b[0;32m   1332\u001b[0m     warnings\u001b[38;5;241m.\u001b[39mwarn(\n\u001b[0;32m   1333\u001b[0m         \u001b[38;5;124m\"\u001b[39m\u001b[38;5;124mIndexing with multiple keys (implicitly converted to a tuple \u001b[39m\u001b[38;5;124m\"\u001b[39m\n\u001b[0;32m   1334\u001b[0m         \u001b[38;5;124m\"\u001b[39m\u001b[38;5;124mof keys) will be deprecated, use a list instead.\u001b[39m\u001b[38;5;124m\"\u001b[39m,\n\u001b[0;32m   1335\u001b[0m         \u001b[38;5;167;01mFutureWarning\u001b[39;00m,\n\u001b[0;32m   1336\u001b[0m         stacklevel\u001b[38;5;241m=\u001b[39mfind_stack_level(),\n\u001b[0;32m   1337\u001b[0m     )\n\u001b[1;32m-> 1338\u001b[0m \u001b[38;5;28;01mreturn\u001b[39;00m \u001b[38;5;28;43msuper\u001b[39;49m\u001b[43m(\u001b[49m\u001b[43m)\u001b[49m\u001b[38;5;241;43m.\u001b[39;49m\u001b[38;5;21;43m__getitem__\u001b[39;49m\u001b[43m(\u001b[49m\u001b[43mkey\u001b[49m\u001b[43m)\u001b[49m\n",
      "File \u001b[1;32m~\\anaconda3\\lib\\site-packages\\pandas\\core\\base.py:250\u001b[0m, in \u001b[0;36mSelectionMixin.__getitem__\u001b[1;34m(self, key)\u001b[0m\n\u001b[0;32m    248\u001b[0m \u001b[38;5;28;01melse\u001b[39;00m:\n\u001b[0;32m    249\u001b[0m     \u001b[38;5;28;01mif\u001b[39;00m key \u001b[38;5;129;01mnot\u001b[39;00m \u001b[38;5;129;01min\u001b[39;00m \u001b[38;5;28mself\u001b[39m\u001b[38;5;241m.\u001b[39mobj:\n\u001b[1;32m--> 250\u001b[0m         \u001b[38;5;28;01mraise\u001b[39;00m \u001b[38;5;167;01mKeyError\u001b[39;00m(\u001b[38;5;124mf\u001b[39m\u001b[38;5;124m\"\u001b[39m\u001b[38;5;124mColumn not found: \u001b[39m\u001b[38;5;132;01m{\u001b[39;00mkey\u001b[38;5;132;01m}\u001b[39;00m\u001b[38;5;124m\"\u001b[39m)\n\u001b[0;32m    251\u001b[0m     subset \u001b[38;5;241m=\u001b[39m \u001b[38;5;28mself\u001b[39m\u001b[38;5;241m.\u001b[39mobj[key]\n\u001b[0;32m    252\u001b[0m     ndim \u001b[38;5;241m=\u001b[39m subset\u001b[38;5;241m.\u001b[39mndim\n",
      "\u001b[1;31mKeyError\u001b[0m: 'Column not found: contribution_hour'"
     ]
    }
   ],
   "source": [
    "# This is the code to get percntage of active hour for a month\n",
    "\n",
    "df['monthly_active_percantage'] = df.groupby('work_month')['contribution_hour'].sum()*100 / 22\n",
    "df.groupby(['Agent Name'])['monthly_active_percantage']"
   ]
  },
  {
   "cell_type": "code",
   "execution_count": null,
   "id": "01bef338",
   "metadata": {},
   "outputs": [],
   "source": []
  }
 ],
 "metadata": {
  "kernelspec": {
   "display_name": "Python 3 (ipykernel)",
   "language": "python",
   "name": "python3"
  },
  "language_info": {
   "codemirror_mode": {
    "name": "ipython",
    "version": 3
   },
   "file_extension": ".py",
   "mimetype": "text/x-python",
   "name": "python",
   "nbconvert_exporter": "python",
   "pygments_lexer": "ipython3",
   "version": "3.9.12"
  }
 },
 "nbformat": 4,
 "nbformat_minor": 5
}
