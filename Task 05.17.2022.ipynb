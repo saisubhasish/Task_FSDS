{
 "cells": [
  {
   "cell_type": "code",
   "execution_count": 1,
   "id": "8d9aacbf",
   "metadata": {},
   "outputs": [],
   "source": [
    "s=\"this is my first python programming class and I am learning python starting and it's function\""
   ]
  },
  {
   "cell_type": "code",
   "execution_count": 2,
   "id": "bccf749d",
   "metadata": {},
   "outputs": [
    {
     "data": {
      "text/plain": [
       "\"h   r tnrrmglsnImengyosrna 'fco\""
      ]
     },
     "execution_count": 2,
     "metadata": {},
     "output_type": "execute_result"
    }
   ],
   "source": [
    "s[1:300:3]"
   ]
  },
  {
   "cell_type": "code",
   "execution_count": 3,
   "id": "e5446ba3",
   "metadata": {},
   "outputs": [
    {
     "data": {
      "text/plain": [
       "\"noitcnuf s'ti dna gnitrats nohtyp gninrael ma I dna ssalc gnimmargorp nohtyp tsrif ym si siht\""
      ]
     },
     "execution_count": 3,
     "metadata": {},
     "output_type": "execute_result"
    }
   ],
   "source": [
    "s[::-1]"
   ]
  },
  {
   "cell_type": "code",
   "execution_count": 4,
   "id": "28e194bc",
   "metadata": {},
   "outputs": [
    {
     "data": {
      "text/plain": [
       "['THIS',\n",
       " 'IS',\n",
       " 'MY',\n",
       " 'FIRST',\n",
       " 'PYTHON',\n",
       " 'PROGRAMMING',\n",
       " 'CLASS',\n",
       " 'AND',\n",
       " 'I',\n",
       " 'AM',\n",
       " 'LEARNING',\n",
       " 'PYTHON',\n",
       " 'STARTING',\n",
       " 'AND',\n",
       " \"IT'S\",\n",
       " 'FUNCTION']"
      ]
     },
     "execution_count": 4,
     "metadata": {},
     "output_type": "execute_result"
    }
   ],
   "source": [
    "s.upper().split()"
   ]
  },
  {
   "cell_type": "code",
   "execution_count": 5,
   "id": "55b0595e",
   "metadata": {},
   "outputs": [
    {
     "data": {
      "text/plain": [
       "\"this is my first python programming class and i am learning python starting and it's function\""
      ]
     },
     "execution_count": 5,
     "metadata": {},
     "output_type": "execute_result"
    }
   ],
   "source": [
    "s.lower()"
   ]
  },
  {
   "cell_type": "code",
   "execution_count": 6,
   "id": "c1850695",
   "metadata": {},
   "outputs": [
    {
     "data": {
      "text/plain": [
       "\"This is my first python programming class and i am learning python starting and it's function\""
      ]
     },
     "execution_count": 6,
     "metadata": {},
     "output_type": "execute_result"
    }
   ],
   "source": [
    "s.capitalize()"
   ]
  },
  {
   "cell_type": "code",
   "execution_count": 7,
   "id": "c84df0d0",
   "metadata": {},
   "outputs": [
    {
     "ename": "SyntaxError",
     "evalue": "illegal target for annotation (3459388268.py, line 1)",
     "output_type": "error",
     "traceback": [
      "\u001b[1;36m  Input \u001b[1;32mIn [7]\u001b[1;36m\u001b[0m\n\u001b[1;33m    isalnum(): This function returns true if the corresponding string is either alphabet, number or alphanumeric string.\u001b[0m\n\u001b[1;37m    ^\u001b[0m\n\u001b[1;31mSyntaxError\u001b[0m\u001b[1;31m:\u001b[0m illegal target for annotation\n"
     ]
    }
   ],
   "source": [
    "isalnum(): This function returns true if the corresponding string is either alphabet, number or alphanumeric string.   \n",
    "isalpha(): This function returns true if the corresponding string is a group of alphabets."
   ]
  },
  {
   "cell_type": "code",
   "execution_count": 8,
   "id": "ed7a764c",
   "metadata": {},
   "outputs": [],
   "source": [
    "s='Sai\\tSubhasish\\tRout'"
   ]
  },
  {
   "cell_type": "code",
   "execution_count": 9,
   "id": "0db6e59e",
   "metadata": {},
   "outputs": [
    {
     "data": {
      "text/plain": [
       "'Sai     Subhasish       Rout'"
      ]
     },
     "execution_count": 9,
     "metadata": {},
     "output_type": "execute_result"
    }
   ],
   "source": [
    "s.expandtabs()"
   ]
  },
  {
   "cell_type": "code",
   "execution_count": 10,
   "id": "dbb74186",
   "metadata": {},
   "outputs": [],
   "source": [
    "s='    sai   subhasish    rout    '"
   ]
  },
  {
   "cell_type": "code",
   "execution_count": 11,
   "id": "d64b648c",
   "metadata": {},
   "outputs": [
    {
     "data": {
      "text/plain": [
       "'sai   subhasish    rout'"
      ]
     },
     "execution_count": 11,
     "metadata": {},
     "output_type": "execute_result"
    }
   ],
   "source": [
    "s.strip()"
   ]
  },
  {
   "cell_type": "code",
   "execution_count": 12,
   "id": "df449d31",
   "metadata": {},
   "outputs": [
    {
     "data": {
      "text/plain": [
       "'sai   subhasish    rout    '"
      ]
     },
     "execution_count": 12,
     "metadata": {},
     "output_type": "execute_result"
    }
   ],
   "source": [
    "s.lstrip()"
   ]
  },
  {
   "cell_type": "code",
   "execution_count": 13,
   "id": "7069737a",
   "metadata": {},
   "outputs": [
    {
     "data": {
      "text/plain": [
       "'    sai   subhasish    rout'"
      ]
     },
     "execution_count": 13,
     "metadata": {},
     "output_type": "execute_result"
    }
   ],
   "source": [
    "s.rstrip()"
   ]
  },
  {
   "cell_type": "code",
   "execution_count": 14,
   "id": "126cabf7",
   "metadata": {},
   "outputs": [],
   "source": [
    "s='subhasish'"
   ]
  },
  {
   "cell_type": "code",
   "execution_count": 15,
   "id": "5a0d20ee",
   "metadata": {},
   "outputs": [
    {
     "data": {
      "text/plain": [
       "'pubhapiph'"
      ]
     },
     "execution_count": 15,
     "metadata": {},
     "output_type": "execute_result"
    }
   ],
   "source": [
    "s.replace('s','p')"
   ]
  },
  {
   "cell_type": "code",
   "execution_count": 16,
   "id": "013355e0",
   "metadata": {},
   "outputs": [
    {
     "ename": "SyntaxError",
     "evalue": "illegal target for annotation (3818817503.py, line 1)",
     "output_type": "error",
     "traceback": [
      "\u001b[1;36m  Input \u001b[1;32mIn [16]\u001b[1;36m\u001b[0m\n\u001b[1;33m    center(): Center function in string adds the string in the middle of the value provided for output string.\u001b[0m\n\u001b[1;37m    ^\u001b[0m\n\u001b[1;31mSyntaxError\u001b[0m\u001b[1;31m:\u001b[0m illegal target for annotation\n"
     ]
    }
   ],
   "source": [
    "center(): Center function in string adds the string in the middle of the value provided for output string."
   ]
  },
  {
   "cell_type": "code",
   "execution_count": 17,
   "id": "1f32c516",
   "metadata": {},
   "outputs": [
    {
     "ename": "SyntaxError",
     "evalue": "invalid syntax (1104734893.py, line 1)",
     "output_type": "error",
     "traceback": [
      "\u001b[1;36m  Input \u001b[1;32mIn [17]\u001b[1;36m\u001b[0m\n\u001b[1;33m    Compiler: Compiler go through the entire code at a time and converts them to machine level language.\u001b[0m\n\u001b[1;37m                       ^\u001b[0m\n\u001b[1;31mSyntaxError\u001b[0m\u001b[1;31m:\u001b[0m invalid syntax\n"
     ]
    }
   ],
   "source": [
    "Compiler: Compiler go through the entire code at a time and converts them to machine level language.\n",
    "interpreter: Interpreter read the lines of code line by line and convert each line to machine level language."
   ]
  },
  {
   "cell_type": "code",
   "execution_count": 18,
   "id": "23d513a3",
   "metadata": {},
   "outputs": [
    {
     "ename": "SyntaxError",
     "evalue": "invalid syntax (1774027007.py, line 1)",
     "output_type": "error",
     "traceback": [
      "\u001b[1;36m  Input \u001b[1;32mIn [18]\u001b[1;36m\u001b[0m\n\u001b[1;33m    Python is an interpreted language. At some part it works as compiler. Like before executing a .py file it get compiled to byte\u001b[0m\n\u001b[1;37m                 ^\u001b[0m\n\u001b[1;31mSyntaxError\u001b[0m\u001b[1;31m:\u001b[0m invalid syntax\n"
     ]
    }
   ],
   "source": [
    "Python is an interpreted language. At some part it works as compiler. Like before executing a .py file it get compiled to byte \n",
    "code then converted to machine level language. "
   ]
  },
  {
   "cell_type": "code",
   "execution_count": 19,
   "id": "14a727ce",
   "metadata": {},
   "outputs": [
    {
     "ename": "SyntaxError",
     "evalue": "invalid syntax (3624949114.py, line 1)",
     "output_type": "error",
     "traceback": [
      "\u001b[1;36m  Input \u001b[1;32mIn [19]\u001b[1;36m\u001b[0m\n\u001b[1;33m    Use case: We use python in Data-Science by using the libraries Pandas,Tensorflow, Numpy etc.And we also use it in Web Scraping\u001b[0m\n\u001b[1;37m        ^\u001b[0m\n\u001b[1;31mSyntaxError\u001b[0m\u001b[1;31m:\u001b[0m invalid syntax\n"
     ]
    }
   ],
   "source": [
    "Use case: We use python in Data-Science by using the libraries Pandas,Tensorflow, Numpy etc.And we also use it in Web Scraping \n",
    "Applications by using tools like PythonRequest, Selenium, MechanicalSoup to build web scrapping applications."
   ]
  },
  {
   "cell_type": "code",
   "execution_count": null,
   "id": "446b897c",
   "metadata": {},
   "outputs": [],
   "source": []
  }
 ],
 "metadata": {
  "kernelspec": {
   "display_name": "Python 3 (ipykernel)",
   "language": "python",
   "name": "python3"
  },
  "language_info": {
   "codemirror_mode": {
    "name": "ipython",
    "version": 3
   },
   "file_extension": ".py",
   "mimetype": "text/x-python",
   "name": "python",
   "nbconvert_exporter": "python",
   "pygments_lexer": "ipython3",
   "version": "3.9.12"
  }
 },
 "nbformat": 4,
 "nbformat_minor": 5
}
